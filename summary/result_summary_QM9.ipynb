{
 "cells": [
  {
   "cell_type": "code",
   "execution_count": 1,
   "metadata": {},
   "outputs": [],
   "source": [
    "import pickle as pkl\n",
    "import numpy as np\n",
    "import matplotlib.pyplot as plt\n",
    "import pandas as pd\n",
    "%matplotlib inline"
   ]
  },
  {
   "cell_type": "code",
   "execution_count": 2,
   "metadata": {},
   "outputs": [],
   "source": [
    "dataset='QM9'"
   ]
  },
  {
   "cell_type": "code",
   "execution_count": 3,
   "metadata": {},
   "outputs": [],
   "source": [
    "tst_DG_uff = pkl.load(open(dataset+'_test_uff.p','rb'))\n",
    "tst_DG_mmff = pkl.load(open(dataset+'_test_mmff.p','rb'))\n",
    "tst_ETKDG_uff = pkl.load(open(dataset+'_test_ETKDG_uff.p','rb'))\n",
    "tst_ETKDG_mmff = pkl.load(open(dataset+'_test_ETKDG_mmff.p','rb'))\n",
    "tst_nn = pkl.load(open(dataset+'_test_nn.p','rb'))\n",
    "bins = np.linspace(0,2,40)"
   ]
  },
  {
   "cell_type": "code",
   "execution_count": 4,
   "metadata": {},
   "outputs": [
    {
     "data": {
      "text/html": [
       "<div>\n",
       "<style scoped>\n",
       "    .dataframe tbody tr th:only-of-type {\n",
       "        vertical-align: middle;\n",
       "    }\n",
       "\n",
       "    .dataframe tbody tr th {\n",
       "        vertical-align: top;\n",
       "    }\n",
       "\n",
       "    .dataframe thead th {\n",
       "        text-align: right;\n",
       "    }\n",
       "</style>\n",
       "<table border=\"1\" class=\"dataframe\">\n",
       "  <thead>\n",
       "    <tr style=\"text-align: right;\">\n",
       "      <th></th>\n",
       "      <th></th>\n",
       "      <th>DG_UFF</th>\n",
       "      <th>DG_MMFF</th>\n",
       "      <th>ETKDG_UFF</th>\n",
       "      <th>ETKDG_MMFF</th>\n",
       "      <th>Proposed</th>\n",
       "    </tr>\n",
       "  </thead>\n",
       "  <tbody>\n",
       "    <tr>\n",
       "      <th>0</th>\n",
       "      <td>total count</td>\n",
       "      <td>4794.000000</td>\n",
       "      <td>4794.000000</td>\n",
       "      <td>4800.000000</td>\n",
       "      <td>4800.000000</td>\n",
       "      <td>5000.0000</td>\n",
       "    </tr>\n",
       "    <tr>\n",
       "      <th>1</th>\n",
       "      <td>succes rate</td>\n",
       "      <td>99.050897</td>\n",
       "      <td>99.050897</td>\n",
       "      <td>99.160417</td>\n",
       "      <td>99.160417</td>\n",
       "      <td>100.0000</td>\n",
       "    </tr>\n",
       "    <tr>\n",
       "      <th>2</th>\n",
       "      <td>average of RMSD mean</td>\n",
       "      <td>0.451000</td>\n",
       "      <td>0.440100</td>\n",
       "      <td>0.447700</td>\n",
       "      <td>0.436700</td>\n",
       "      <td>0.4416</td>\n",
       "    </tr>\n",
       "    <tr>\n",
       "      <th>3</th>\n",
       "      <td>median of RMSD mean</td>\n",
       "      <td>0.414200</td>\n",
       "      <td>0.407900</td>\n",
       "      <td>0.419900</td>\n",
       "      <td>0.409700</td>\n",
       "      <td>0.3989</td>\n",
       "    </tr>\n",
       "    <tr>\n",
       "      <th>4</th>\n",
       "      <td>average of RMSD std</td>\n",
       "      <td>0.159700</td>\n",
       "      <td>0.170500</td>\n",
       "      <td>0.157900</td>\n",
       "      <td>0.168200</td>\n",
       "      <td>0.0299</td>\n",
       "    </tr>\n",
       "    <tr>\n",
       "      <th>5</th>\n",
       "      <td>median of RMSD std</td>\n",
       "      <td>0.161500</td>\n",
       "      <td>0.170700</td>\n",
       "      <td>0.154600</td>\n",
       "      <td>0.165800</td>\n",
       "      <td>0.0105</td>\n",
       "    </tr>\n",
       "  </tbody>\n",
       "</table>\n",
       "</div>"
      ],
      "text/plain": [
       "                              DG_UFF      DG_MMFF    ETKDG_UFF   ETKDG_MMFF  \\\n",
       "0           total count  4794.000000  4794.000000  4800.000000  4800.000000   \n",
       "1           succes rate    99.050897    99.050897    99.160417    99.160417   \n",
       "2  average of RMSD mean     0.451000     0.440100     0.447700     0.436700   \n",
       "3   median of RMSD mean     0.414200     0.407900     0.419900     0.409700   \n",
       "4   average of RMSD std     0.159700     0.170500     0.157900     0.168200   \n",
       "5    median of RMSD std     0.161500     0.170700     0.154600     0.165800   \n",
       "\n",
       "    Proposed  \n",
       "0  5000.0000  \n",
       "1   100.0000  \n",
       "2     0.4416  \n",
       "3     0.3989  \n",
       "4     0.0299  \n",
       "5     0.0105  "
      ]
     },
     "execution_count": 4,
     "metadata": {},
     "output_type": "execute_result"
    }
   ],
   "source": [
    "pd.DataFrame([['total count',len(tst_DG_uff[:,0]),len(tst_DG_mmff[:,0]),len(tst_ETKDG_uff[:,0]),len(tst_ETKDG_mmff[:,0]),len(tst_nn[:,0])],\n",
    "            ['succes rate',np.mean(tst_DG_uff,0)[2]*10,np.mean(tst_DG_mmff,0)[2]*10,\n",
    "             np.mean(tst_ETKDG_uff,0)[2]*10,np.mean(tst_ETKDG_mmff,0)[2]*10,100],\n",
    "            ['average of RMSD mean',np.round(np.mean(tst_DG_uff,0)[0],4), np.round(np.mean(tst_DG_mmff,0)[0],4),\n",
    "             np.round(np.mean(tst_ETKDG_uff,0)[0],4), np.round(np.mean(tst_ETKDG_mmff,0)[0],4), np.round(np.mean(tst_nn,0)[0],4)],\n",
    "            ['median of RMSD mean',np.round(np.median(tst_DG_uff,0)[0],4), np.round(np.median(tst_DG_mmff,0)[0],4),\n",
    "             np.round(np.median(tst_ETKDG_uff,0)[0],4), np.round(np.median(tst_ETKDG_mmff,0)[0],4), np.round(np.median(tst_nn,0)[0],4)],\n",
    "            ['average of RMSD std',np.round(np.mean(tst_DG_uff,0)[1],4), np.round(np.mean(tst_DG_mmff,0)[1],4), \n",
    "             np.round(np.mean(tst_ETKDG_uff,0)[1],4), np.round(np.mean(tst_ETKDG_mmff,0)[1],4), np.round(np.mean(tst_nn,0)[1],4)],\n",
    "            ['median of RMSD std',np.round(np.median(tst_DG_uff,0)[1],4), np.round(np.median(tst_DG_mmff,0)[1],4),\n",
    "             np.round(np.median(tst_ETKDG_uff,0)[1],4), np.round(np.median(tst_ETKDG_mmff,0)[1],4),np.round(np.median(tst_nn,0)[1],4)]],\n",
    "            columns=['','DG_UFF','DG_MMFF','ETKDG_UFF','ETKDG_MMFF','Proposed'])"
   ]
  },
  {
   "cell_type": "code",
   "execution_count": 5,
   "metadata": {},
   "outputs": [
    {
     "data": {
      "text/html": [
       "<div>\n",
       "<style scoped>\n",
       "    .dataframe tbody tr th:only-of-type {\n",
       "        vertical-align: middle;\n",
       "    }\n",
       "\n",
       "    .dataframe tbody tr th {\n",
       "        vertical-align: top;\n",
       "    }\n",
       "\n",
       "    .dataframe thead th {\n",
       "        text-align: right;\n",
       "    }\n",
       "</style>\n",
       "<table border=\"1\" class=\"dataframe\">\n",
       "  <thead>\n",
       "    <tr style=\"text-align: right;\">\n",
       "      <th></th>\n",
       "      <th></th>\n",
       "      <th>DG_UFF</th>\n",
       "      <th>DG_MMFF</th>\n",
       "      <th>ETKDG_UFF</th>\n",
       "      <th>ETKDG_MMFF</th>\n",
       "      <th>Proposed</th>\n",
       "    </tr>\n",
       "  </thead>\n",
       "  <tbody>\n",
       "    <tr>\n",
       "      <th>0</th>\n",
       "      <td>&lt;0.0</td>\n",
       "      <td>0.00</td>\n",
       "      <td>0.00</td>\n",
       "      <td>0.00</td>\n",
       "      <td>0.00</td>\n",
       "      <td>0.00</td>\n",
       "    </tr>\n",
       "    <tr>\n",
       "      <th>1</th>\n",
       "      <td>&lt;0.1</td>\n",
       "      <td>16.50</td>\n",
       "      <td>18.56</td>\n",
       "      <td>17.12</td>\n",
       "      <td>18.83</td>\n",
       "      <td>7.54</td>\n",
       "    </tr>\n",
       "    <tr>\n",
       "      <th>2</th>\n",
       "      <td>&lt;0.2</td>\n",
       "      <td>27.28</td>\n",
       "      <td>30.35</td>\n",
       "      <td>27.65</td>\n",
       "      <td>30.79</td>\n",
       "      <td>21.48</td>\n",
       "    </tr>\n",
       "    <tr>\n",
       "      <th>3</th>\n",
       "      <td>&lt;0.3</td>\n",
       "      <td>36.78</td>\n",
       "      <td>38.92</td>\n",
       "      <td>37.12</td>\n",
       "      <td>38.58</td>\n",
       "      <td>36.98</td>\n",
       "    </tr>\n",
       "    <tr>\n",
       "      <th>4</th>\n",
       "      <td>&lt;0.4</td>\n",
       "      <td>48.23</td>\n",
       "      <td>49.29</td>\n",
       "      <td>47.54</td>\n",
       "      <td>49.00</td>\n",
       "      <td>50.10</td>\n",
       "    </tr>\n",
       "    <tr>\n",
       "      <th>5</th>\n",
       "      <td>&lt;0.5</td>\n",
       "      <td>59.03</td>\n",
       "      <td>59.30</td>\n",
       "      <td>58.63</td>\n",
       "      <td>59.67</td>\n",
       "      <td>61.54</td>\n",
       "    </tr>\n",
       "    <tr>\n",
       "      <th>6</th>\n",
       "      <td>&lt;0.6</td>\n",
       "      <td>68.46</td>\n",
       "      <td>68.96</td>\n",
       "      <td>69.38</td>\n",
       "      <td>69.56</td>\n",
       "      <td>72.48</td>\n",
       "    </tr>\n",
       "    <tr>\n",
       "      <th>7</th>\n",
       "      <td>&lt;0.7</td>\n",
       "      <td>76.51</td>\n",
       "      <td>76.83</td>\n",
       "      <td>77.50</td>\n",
       "      <td>77.81</td>\n",
       "      <td>82.36</td>\n",
       "    </tr>\n",
       "    <tr>\n",
       "      <th>8</th>\n",
       "      <td>&lt;0.8</td>\n",
       "      <td>84.40</td>\n",
       "      <td>84.56</td>\n",
       "      <td>84.79</td>\n",
       "      <td>85.02</td>\n",
       "      <td>89.14</td>\n",
       "    </tr>\n",
       "    <tr>\n",
       "      <th>9</th>\n",
       "      <td>&lt;0.9</td>\n",
       "      <td>90.15</td>\n",
       "      <td>90.45</td>\n",
       "      <td>91.08</td>\n",
       "      <td>91.00</td>\n",
       "      <td>93.62</td>\n",
       "    </tr>\n",
       "    <tr>\n",
       "      <th>10</th>\n",
       "      <td>&lt;1.0</td>\n",
       "      <td>95.01</td>\n",
       "      <td>95.04</td>\n",
       "      <td>95.81</td>\n",
       "      <td>95.56</td>\n",
       "      <td>96.68</td>\n",
       "    </tr>\n",
       "    <tr>\n",
       "      <th>11</th>\n",
       "      <td>&lt;1.1</td>\n",
       "      <td>98.19</td>\n",
       "      <td>97.87</td>\n",
       "      <td>98.10</td>\n",
       "      <td>98.02</td>\n",
       "      <td>98.30</td>\n",
       "    </tr>\n",
       "    <tr>\n",
       "      <th>12</th>\n",
       "      <td>&lt;1.2</td>\n",
       "      <td>99.31</td>\n",
       "      <td>99.23</td>\n",
       "      <td>99.31</td>\n",
       "      <td>99.33</td>\n",
       "      <td>99.10</td>\n",
       "    </tr>\n",
       "    <tr>\n",
       "      <th>13</th>\n",
       "      <td>&lt;1.3</td>\n",
       "      <td>99.85</td>\n",
       "      <td>99.85</td>\n",
       "      <td>99.79</td>\n",
       "      <td>99.85</td>\n",
       "      <td>99.56</td>\n",
       "    </tr>\n",
       "    <tr>\n",
       "      <th>14</th>\n",
       "      <td>&lt;1.4</td>\n",
       "      <td>99.96</td>\n",
       "      <td>99.94</td>\n",
       "      <td>99.92</td>\n",
       "      <td>99.98</td>\n",
       "      <td>99.92</td>\n",
       "    </tr>\n",
       "    <tr>\n",
       "      <th>15</th>\n",
       "      <td>&lt;1.5</td>\n",
       "      <td>100.00</td>\n",
       "      <td>100.00</td>\n",
       "      <td>100.00</td>\n",
       "      <td>100.00</td>\n",
       "      <td>99.98</td>\n",
       "    </tr>\n",
       "  </tbody>\n",
       "</table>\n",
       "</div>"
      ],
      "text/plain": [
       "          DG_UFF  DG_MMFF  ETKDG_UFF  ETKDG_MMFF  Proposed\n",
       "0   <0.0    0.00     0.00       0.00        0.00      0.00\n",
       "1   <0.1   16.50    18.56      17.12       18.83      7.54\n",
       "2   <0.2   27.28    30.35      27.65       30.79     21.48\n",
       "3   <0.3   36.78    38.92      37.12       38.58     36.98\n",
       "4   <0.4   48.23    49.29      47.54       49.00     50.10\n",
       "5   <0.5   59.03    59.30      58.63       59.67     61.54\n",
       "6   <0.6   68.46    68.96      69.38       69.56     72.48\n",
       "7   <0.7   76.51    76.83      77.50       77.81     82.36\n",
       "8   <0.8   84.40    84.56      84.79       85.02     89.14\n",
       "9   <0.9   90.15    90.45      91.08       91.00     93.62\n",
       "10  <1.0   95.01    95.04      95.81       95.56     96.68\n",
       "11  <1.1   98.19    97.87      98.10       98.02     98.30\n",
       "12  <1.2   99.31    99.23      99.31       99.33     99.10\n",
       "13  <1.3   99.85    99.85      99.79       99.85     99.56\n",
       "14  <1.4   99.96    99.94      99.92       99.98     99.92\n",
       "15  <1.5  100.00   100.00     100.00      100.00     99.98"
      ]
     },
     "execution_count": 5,
     "metadata": {},
     "output_type": "execute_result"
    }
   ],
   "source": [
    "pd.DataFrame([['<'+str(np.round(0.10*i,2)),\n",
    "             np.round(np.mean(tst_DG_uff[:,0]<0.1*i)*100,2),\n",
    "             np.round(np.mean(tst_DG_mmff[:,0]<0.1*i)*100,2),\n",
    "             np.round(np.mean(tst_ETKDG_uff[:,0]<0.1*i)*100,2),\n",
    "             np.round(np.mean(tst_ETKDG_mmff[:,0]<0.1*i)*100,2),\n",
    "             np.round(np.mean(tst_nn[:,0]<0.1*i)*100,2)] for i in range(16)],\n",
    "             columns=['','DG_UFF','DG_MMFF','ETKDG_UFF','ETKDG_MMFF','Proposed'])"
   ]
  },
  {
   "cell_type": "code",
   "execution_count": 6,
   "metadata": {},
   "outputs": [
    {
     "data": {
      "image/png": "[encoded data removed]",
      "text/plain": [
       "<Figure size 432x288 with 1 Axes>"
      ]
     },
     "metadata": {
      "needs_background": "light"
     },
     "output_type": "display_data"
    }
   ],
   "source": [
    "hist_DG_uff = plt.hist(tst_DG_uff[:,0],bins)"
   ]
  },
  {
   "cell_type": "code",
   "execution_count": 7,
   "metadata": {},
   "outputs": [
    {
     "data": {
      "image/png": "[encoded data removed]",
      "text/plain": [
       "<Figure size 432x288 with 1 Axes>"
      ]
     },
     "metadata": {
      "needs_background": "light"
     },
     "output_type": "display_data"
    }
   ],
   "source": [
    "hist_ETKDG_uff = plt.hist(tst_ETKDG_uff[:,0],bins)"
   ]
  },
  {
   "cell_type": "code",
   "execution_count": 8,
   "metadata": {},
   "outputs": [
    {
     "data": {
      "image/png": "[encoded data removed]",
      "text/plain": [
       "<Figure size 432x288 with 1 Axes>"
      ]
     },
     "metadata": {
      "needs_background": "light"
     },
     "output_type": "display_data"
    }
   ],
   "source": [
    "hist_DG_mmff = plt.hist(tst_DG_mmff[:,0],bins)"
   ]
  },
  {
   "cell_type": "code",
   "execution_count": 9,
   "metadata": {},
   "outputs": [
    {
     "data": {
      "image/png": "[encoded data removed]",
      "text/plain": [
       "<Figure size 432x288 with 1 Axes>"
      ]
     },
     "metadata": {
      "needs_background": "light"
     },
     "output_type": "display_data"
    }
   ],
   "source": [
    "hist_ETKDG_mmff = plt.hist(tst_ETKDG_mmff[:,0],bins)"
   ]
  },
  {
   "cell_type": "code",
   "execution_count": 10,
   "metadata": {},
   "outputs": [
    {
     "data": {
      "image/png": "[encoded data removed]",
      "text/plain": [
       "<Figure size 432x288 with 1 Axes>"
      ]
     },
     "metadata": {
      "needs_background": "light"
     },
     "output_type": "display_data"
    }
   ],
   "source": [
    "hist_nn = plt.hist(tst_nn[:,0],bins)"
   ]
  }
 ],
 "metadata": {
  "kernelspec": {
   "display_name": "Python 3",
   "language": "python",
   "name": "python3"
  },
  "language_info": {
   "codemirror_mode": {
    "name": "ipython",
    "version": 3
   },
   "file_extension": ".py",
   "mimetype": "text/x-python",
   "name": "python",
   "nbconvert_exporter": "python",
   "pygments_lexer": "ipython3",
   "version": "3.6.6"
  }
 },
 "nbformat": 4,
 "nbformat_minor": 2
}
