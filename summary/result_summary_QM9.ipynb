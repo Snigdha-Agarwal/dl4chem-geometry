{
 "cells": [
  {
   "cell_type": "code",
   "execution_count": 6,
   "metadata": {},
   "outputs": [],
   "source": [
    "import pickle as pkl\n",
    "import numpy as np\n",
    "import matplotlib.pyplot as plt\n",
    "import pandas as pd\n",
    "%matplotlib inline"
   ]
  },
  {
   "cell_type": "code",
   "execution_count": 7,
   "metadata": {},
   "outputs": [],
   "source": [
    "dataset='QM9'"
   ]
  },
  {
   "cell_type": "code",
   "execution_count": 8,
   "metadata": {},
   "outputs": [],
   "source": [
    "tst_uff = pkl.load(open(dataset+'_test_uff.p','rb'))\n",
    "tst_mmff = pkl.load(open(dataset+'_test_mmff.p','rb'))\n",
    "tst_nn = pkl.load(open(dataset+'_test_nn.p','rb'))\n",
    "bins = np.linspace(0,2,40)"
   ]
  },
  {
   "cell_type": "code",
   "execution_count": 9,
   "metadata": {},
   "outputs": [
    {
     "data": {
      "text/html": [
       "<div>\n",
       "<style scoped>\n",
       "    .dataframe tbody tr th:only-of-type {\n",
       "        vertical-align: middle;\n",
       "    }\n",
       "\n",
       "    .dataframe tbody tr th {\n",
       "        vertical-align: top;\n",
       "    }\n",
       "\n",
       "    .dataframe thead th {\n",
       "        text-align: right;\n",
       "    }\n",
       "</style>\n",
       "<table border=\"1\" class=\"dataframe\">\n",
       "  <thead>\n",
       "    <tr style=\"text-align: right;\">\n",
       "      <th></th>\n",
       "      <th></th>\n",
       "      <th>UFF</th>\n",
       "      <th>MMFF</th>\n",
       "      <th>Proposed</th>\n",
       "    </tr>\n",
       "  </thead>\n",
       "  <tbody>\n",
       "    <tr>\n",
       "      <th>0</th>\n",
       "      <td>total count</td>\n",
       "      <td>4794.000000</td>\n",
       "      <td>4794.000000</td>\n",
       "      <td>5000.0000</td>\n",
       "    </tr>\n",
       "    <tr>\n",
       "      <th>1</th>\n",
       "      <td>succes rate</td>\n",
       "      <td>99.050897</td>\n",
       "      <td>99.050897</td>\n",
       "      <td>100.0000</td>\n",
       "    </tr>\n",
       "    <tr>\n",
       "      <th>2</th>\n",
       "      <td>RMSD mean</td>\n",
       "      <td>0.451000</td>\n",
       "      <td>0.440100</td>\n",
       "      <td>0.4533</td>\n",
       "    </tr>\n",
       "    <tr>\n",
       "      <th>3</th>\n",
       "      <td>RMSD std</td>\n",
       "      <td>0.159700</td>\n",
       "      <td>0.170500</td>\n",
       "      <td>0.0375</td>\n",
       "    </tr>\n",
       "  </tbody>\n",
       "</table>\n",
       "</div>"
      ],
      "text/plain": [
       "                        UFF         MMFF   Proposed\n",
       "0  total count  4794.000000  4794.000000  5000.0000\n",
       "1  succes rate    99.050897    99.050897   100.0000\n",
       "2    RMSD mean     0.451000     0.440100     0.4533\n",
       "3     RMSD std     0.159700     0.170500     0.0375"
      ]
     },
     "execution_count": 9,
     "metadata": {},
     "output_type": "execute_result"
    }
   ],
   "source": [
    "pd.DataFrame([['total count',len(tst_uff[:,0]),len(tst_mmff[:,0]),len(tst_nn[:,0])],\n",
    "            ['succes rate',np.mean(tst_uff,0)[2]*10,np.mean(tst_mmff,0)[2]*10,100],\n",
    "            ['RMSD mean',np.round(np.mean(tst_uff,0)[0],4), np.round(np.mean(tst_mmff,0)[0],4), np.round(np.mean(tst_nn,0)[0],4)],\n",
    "            ['RMSD std',np.round(np.mean(tst_uff,0)[1],4), np.round(np.mean(tst_mmff,0)[1],4), np.round(np.mean(tst_nn,0)[1],4)]],\n",
    "            columns=['','UFF','MMFF','Proposed'])"
   ]
  },
  {
   "cell_type": "code",
   "execution_count": 10,
   "metadata": {},
   "outputs": [
    {
     "data": {
      "text/html": [
       "<div>\n",
       "<style scoped>\n",
       "    .dataframe tbody tr th:only-of-type {\n",
       "        vertical-align: middle;\n",
       "    }\n",
       "\n",
       "    .dataframe tbody tr th {\n",
       "        vertical-align: top;\n",
       "    }\n",
       "\n",
       "    .dataframe thead th {\n",
       "        text-align: right;\n",
       "    }\n",
       "</style>\n",
       "<table border=\"1\" class=\"dataframe\">\n",
       "  <thead>\n",
       "    <tr style=\"text-align: right;\">\n",
       "      <th></th>\n",
       "      <th>RMSD range</th>\n",
       "      <th>UFF</th>\n",
       "      <th>MMFF</th>\n",
       "      <th>Proposed</th>\n",
       "    </tr>\n",
       "  </thead>\n",
       "  <tbody>\n",
       "    <tr>\n",
       "      <th>0</th>\n",
       "      <td>&lt;0.0</td>\n",
       "      <td>0.00</td>\n",
       "      <td>0.00</td>\n",
       "      <td>0.00</td>\n",
       "    </tr>\n",
       "    <tr>\n",
       "      <th>1</th>\n",
       "      <td>&lt;0.1</td>\n",
       "      <td>16.50</td>\n",
       "      <td>18.56</td>\n",
       "      <td>6.26</td>\n",
       "    </tr>\n",
       "    <tr>\n",
       "      <th>2</th>\n",
       "      <td>&lt;0.2</td>\n",
       "      <td>27.28</td>\n",
       "      <td>30.35</td>\n",
       "      <td>19.66</td>\n",
       "    </tr>\n",
       "    <tr>\n",
       "      <th>3</th>\n",
       "      <td>&lt;0.3</td>\n",
       "      <td>36.78</td>\n",
       "      <td>38.92</td>\n",
       "      <td>34.36</td>\n",
       "    </tr>\n",
       "    <tr>\n",
       "      <th>4</th>\n",
       "      <td>&lt;0.4</td>\n",
       "      <td>48.23</td>\n",
       "      <td>49.29</td>\n",
       "      <td>47.98</td>\n",
       "    </tr>\n",
       "    <tr>\n",
       "      <th>5</th>\n",
       "      <td>&lt;0.5</td>\n",
       "      <td>59.03</td>\n",
       "      <td>59.30</td>\n",
       "      <td>59.68</td>\n",
       "    </tr>\n",
       "    <tr>\n",
       "      <th>6</th>\n",
       "      <td>&lt;0.6</td>\n",
       "      <td>68.46</td>\n",
       "      <td>68.96</td>\n",
       "      <td>71.12</td>\n",
       "    </tr>\n",
       "    <tr>\n",
       "      <th>7</th>\n",
       "      <td>&lt;0.7</td>\n",
       "      <td>76.51</td>\n",
       "      <td>76.83</td>\n",
       "      <td>81.94</td>\n",
       "    </tr>\n",
       "    <tr>\n",
       "      <th>8</th>\n",
       "      <td>&lt;0.8</td>\n",
       "      <td>84.40</td>\n",
       "      <td>84.56</td>\n",
       "      <td>89.14</td>\n",
       "    </tr>\n",
       "    <tr>\n",
       "      <th>9</th>\n",
       "      <td>&lt;0.9</td>\n",
       "      <td>90.15</td>\n",
       "      <td>90.45</td>\n",
       "      <td>93.74</td>\n",
       "    </tr>\n",
       "    <tr>\n",
       "      <th>10</th>\n",
       "      <td>&lt;1.0</td>\n",
       "      <td>95.01</td>\n",
       "      <td>95.04</td>\n",
       "      <td>96.62</td>\n",
       "    </tr>\n",
       "    <tr>\n",
       "      <th>11</th>\n",
       "      <td>&lt;1.1</td>\n",
       "      <td>98.19</td>\n",
       "      <td>97.87</td>\n",
       "      <td>98.18</td>\n",
       "    </tr>\n",
       "    <tr>\n",
       "      <th>12</th>\n",
       "      <td>&lt;1.2</td>\n",
       "      <td>99.31</td>\n",
       "      <td>99.23</td>\n",
       "      <td>99.20</td>\n",
       "    </tr>\n",
       "    <tr>\n",
       "      <th>13</th>\n",
       "      <td>&lt;1.3</td>\n",
       "      <td>99.85</td>\n",
       "      <td>99.85</td>\n",
       "      <td>99.64</td>\n",
       "    </tr>\n",
       "    <tr>\n",
       "      <th>14</th>\n",
       "      <td>&lt;1.4</td>\n",
       "      <td>99.96</td>\n",
       "      <td>99.94</td>\n",
       "      <td>99.86</td>\n",
       "    </tr>\n",
       "    <tr>\n",
       "      <th>15</th>\n",
       "      <td>&lt;1.5</td>\n",
       "      <td>100.00</td>\n",
       "      <td>100.00</td>\n",
       "      <td>99.98</td>\n",
       "    </tr>\n",
       "  </tbody>\n",
       "</table>\n",
       "</div>"
      ],
      "text/plain": [
       "   RMSD range     UFF    MMFF  Proposed\n",
       "0        <0.0    0.00    0.00      0.00\n",
       "1        <0.1   16.50   18.56      6.26\n",
       "2        <0.2   27.28   30.35     19.66\n",
       "3        <0.3   36.78   38.92     34.36\n",
       "4        <0.4   48.23   49.29     47.98\n",
       "5        <0.5   59.03   59.30     59.68\n",
       "6        <0.6   68.46   68.96     71.12\n",
       "7        <0.7   76.51   76.83     81.94\n",
       "8        <0.8   84.40   84.56     89.14\n",
       "9        <0.9   90.15   90.45     93.74\n",
       "10       <1.0   95.01   95.04     96.62\n",
       "11       <1.1   98.19   97.87     98.18\n",
       "12       <1.2   99.31   99.23     99.20\n",
       "13       <1.3   99.85   99.85     99.64\n",
       "14       <1.4   99.96   99.94     99.86\n",
       "15       <1.5  100.00  100.00     99.98"
      ]
     },
     "execution_count": 10,
     "metadata": {},
     "output_type": "execute_result"
    }
   ],
   "source": [
    "pd.DataFrame([['<'+str(np.round(0.10*i,2)),\n",
    "             np.round(np.mean(tst_uff[:,0]<0.10*i)*100,2),\n",
    "             np.round(np.mean(tst_mmff[:,0]<0.10*i)*100,2),\n",
    "             np.round(np.mean(tst_nn[:,0]<0.10*i)*100,2)] for i in range(16)],\n",
    "             columns=['RMSD range','UFF','MMFF','Proposed'])"
   ]
  },
  {
   "cell_type": "code",
   "execution_count": 11,
   "metadata": {},
   "outputs": [
    {
     "data": {
      "image/png": "[encoded data removed]",
      "text/plain": [
       "<Figure size 432x288 with 1 Axes>"
      ]
     },
     "metadata": {
      "needs_background": "light"
     },
     "output_type": "display_data"
    }
   ],
   "source": [
    "hist_uff = plt.hist(tst_uff[:,0],bins)"
   ]
  },
  {
   "cell_type": "code",
   "execution_count": 12,
   "metadata": {},
   "outputs": [
    {
     "data": {
      "image/png": "[encoded data removed]",
      "text/plain": [
       "<Figure size 432x288 with 1 Axes>"
      ]
     },
     "metadata": {
      "needs_background": "light"
     },
     "output_type": "display_data"
    }
   ],
   "source": [
    "hist_mmff = plt.hist(tst_mmff[:,0],bins)"
   ]
  },
  {
   "cell_type": "code",
   "execution_count": 13,
   "metadata": {},
   "outputs": [
    {
     "data": {
      "image/png": "[encoded data removed]",
      "text/plain": [
       "<Figure size 432x288 with 1 Axes>"
      ]
     },
     "metadata": {
      "needs_background": "light"
     },
     "output_type": "display_data"
    }
   ],
   "source": [
    "hist_nn = plt.hist(tst_nn[:,0],bins)"
   ]
  }
 ],
 "metadata": {
  "kernelspec": {
   "display_name": "Python 3",
   "language": "python",
   "name": "python3"
  },
  "language_info": {
   "codemirror_mode": {
    "name": "ipython",
    "version": 3
   },
   "file_extension": ".py",
   "mimetype": "text/x-python",
   "name": "python",
   "nbconvert_exporter": "python",
   "pygments_lexer": "ipython3",
   "version": "3.6.6"
  }
 },
 "nbformat": 4,
 "nbformat_minor": 2
}
