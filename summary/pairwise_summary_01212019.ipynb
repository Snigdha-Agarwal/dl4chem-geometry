{
 "cells": [
  {
   "cell_type": "code",
   "execution_count": 1,
   "metadata": {},
   "outputs": [],
   "source": [
    "import pickle as pkl\n",
    "import numpy as np\n",
    "import matplotlib\n",
    "#matplotlib.rcParams.update({'font.size': 40})\n",
    "import matplotlib.pyplot as plt\n",
    "import seaborn as sns\n",
    "sns.set(style='whitegrid')\n",
    "import pandas as pd\n",
    "import os\n",
    "import time\n",
    "from collections import OrderedDict\n",
    "from summary_utils import read_mols_baseline, read_mols_neuralnet\n",
    "%matplotlib inline"
   ]
  },
  {
   "cell_type": "code",
   "execution_count": 2,
   "metadata": {},
   "outputs": [],
   "source": [
    "dataset = 'QM9'\n",
    "num_conformers = [100]\n",
    "nn_hyperparams = [\"prior_T=0.5\", \"prior_T=1\", \"prior_T=2\", \"prior_T=4\"]"
   ]
  },
  {
   "cell_type": "code",
   "execution_count": 3,
   "metadata": {},
   "outputs": [
    {
     "name": "stdout",
     "output_type": "stream",
     "text": [
      "done 0 out of 5000\n",
      "done 500 out of 5000\n",
      "done 1000 out of 5000\n",
      "done 1500 out of 5000\n",
      "done 2000 out of 5000\n",
      "done 2500 out of 5000\n",
      "done 3000 out of 5000\n",
      "done 3500 out of 5000\n",
      "done 4000 out of 5000\n",
      "done 4500 out of 5000\n",
      "time took 18.174451112747192\n"
     ]
    }
   ],
   "source": [
    "ff_mols = read_mols_baseline('/home/mansimov/projects/dl4chem-geometry/results/ff/{}/_test_/rep_100_iter_200/mols'.format(dataset), num_conformers)"
   ]
  },
  {
   "cell_type": "code",
   "execution_count": null,
   "metadata": {},
   "outputs": [],
   "source": [
    "def calc_pairwise_rmsd(mols)"
   ]
  }
 ],
 "metadata": {
  "kernelspec": {
   "display_name": "Python 3",
   "language": "python",
   "name": "python3"
  },
  "language_info": {
   "codemirror_mode": {
    "name": "ipython",
    "version": 3
   },
   "file_extension": ".py",
   "mimetype": "text/x-python",
   "name": "python",
   "nbconvert_exporter": "python",
   "pygments_lexer": "ipython3",
   "version": "3.6.4"
  }
 },
 "nbformat": 4,
 "nbformat_minor": 2
}
