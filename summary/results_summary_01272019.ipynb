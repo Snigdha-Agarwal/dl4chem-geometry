{
 "cells": [
  {
   "cell_type": "code",
   "execution_count": 1,
   "metadata": {},
   "outputs": [],
   "source": [
    "# Results w.r.t. different properties of the molecule\n",
    "\n",
    "import pickle as pkl\n",
    "import numpy as np\n",
    "import matplotlib\n",
    "#matplotlib.rcParams.update({'font.size': 40})\n",
    "import matplotlib.pyplot as plt\n",
    "import seaborn as sns\n",
    "sns.set(style='whitegrid')\n",
    "import pandas as pd\n",
    "import os\n",
    "import time\n",
    "from collections import OrderedDict\n",
    "from summary_utils import read_mols_baseline, read_mols_neuralnet\n",
    "%matplotlib inline"
   ]
  },
  {
   "cell_type": "code",
   "execution_count": 2,
   "metadata": {},
   "outputs": [],
   "source": [
    "dataset = 'QM9'\n",
    "num_conformers = [100]\n",
    "nn_hyperparams = [\"prior_T=1\"]"
   ]
  },
  {
   "cell_type": "code",
   "execution_count": 3,
   "metadata": {},
   "outputs": [
    {
     "name": "stdout",
     "output_type": "stream",
     "text": [
      "done 0 out of 5000\n",
      "done 500 out of 5000\n",
      "done 1000 out of 5000\n",
      "done 1500 out of 5000\n",
      "done 2000 out of 5000\n",
      "done 2500 out of 5000\n",
      "done 3000 out of 5000\n",
      "done 3500 out of 5000\n",
      "done 4000 out of 5000\n",
      "done 4500 out of 5000\n",
      "time took 16.277498483657837\n"
     ]
    }
   ],
   "source": [
    "ff_mols_orig = read_mols_baseline('/home/mansimov/projects/dl4chem-geometry/results/ff/{}/_test_/rep_100_iter_200/mols'.format(dataset), num_conformers)"
   ]
  },
  {
   "cell_type": "code",
   "execution_count": 4,
   "metadata": {},
   "outputs": [
    {
     "name": "stdout",
     "output_type": "stream",
     "text": [
      "done 0 out of 4647\n",
      "done 500 out of 4647\n",
      "done 1000 out of 4647\n",
      "done 1500 out of 4647\n",
      "done 2000 out of 4647\n",
      "done 2500 out of 4647\n",
      "done 3000 out of 4647\n",
      "done 3500 out of 4647\n",
      "done 4000 out of 4647\n",
      "done 4500 out of 4647\n",
      "time took 11.190736055374146\n"
     ]
    }
   ],
   "source": [
    "nn_ff_mols_newopt = read_mols_baseline('/home/mansimov/projects/dl4chem-geometry/results/nn_ff_rndcoord_nochiral_ignoresmooth/{}/_test_/rep_100_iter_200/mols'.format(dataset), num_conformers)"
   ]
  },
  {
   "cell_type": "code",
   "execution_count": 5,
   "metadata": {},
   "outputs": [
    {
     "data": {
      "text/html": [
       "<div>\n",
       "<style scoped>\n",
       "    .dataframe tbody tr th:only-of-type {\n",
       "        vertical-align: middle;\n",
       "    }\n",
       "\n",
       "    .dataframe tbody tr th {\n",
       "        vertical-align: top;\n",
       "    }\n",
       "\n",
       "    .dataframe thead th {\n",
       "        text-align: right;\n",
       "    }\n",
       "</style>\n",
       "<table border=\"1\" class=\"dataframe\">\n",
       "  <thead>\n",
       "    <tr style=\"text-align: right;\">\n",
       "      <th></th>\n",
       "      <th></th>\n",
       "      <th>MMFF original</th>\n",
       "      <th>NN + MMFF (random coord/no chiral)</th>\n",
       "      <th>UFF original</th>\n",
       "      <th>NN + UFF (random coord/no chiral)</th>\n",
       "    </tr>\n",
       "  </thead>\n",
       "  <tbody>\n",
       "    <tr>\n",
       "      <th>0</th>\n",
       "      <td>total count (out of 5000)</td>\n",
       "      <td>4807.000000</td>\n",
       "      <td>3646.000000</td>\n",
       "      <td>4807.000000</td>\n",
       "      <td>3646.000000</td>\n",
       "    </tr>\n",
       "    <tr>\n",
       "      <th>1</th>\n",
       "      <td>success percent (per mol)</td>\n",
       "      <td>98.787185</td>\n",
       "      <td>92.246846</td>\n",
       "      <td>98.787185</td>\n",
       "      <td>92.246846</td>\n",
       "    </tr>\n",
       "    <tr>\n",
       "      <th>2</th>\n",
       "      <td>median of mean RMSD (mols present in all)</td>\n",
       "      <td>0.382852</td>\n",
       "      <td>0.242689</td>\n",
       "      <td>0.390513</td>\n",
       "      <td>0.269165</td>\n",
       "    </tr>\n",
       "    <tr>\n",
       "      <th>3</th>\n",
       "      <td>median of std RMSD (mols present in all)</td>\n",
       "      <td>0.178316</td>\n",
       "      <td>0.065284</td>\n",
       "      <td>0.168663</td>\n",
       "      <td>0.053723</td>\n",
       "    </tr>\n",
       "    <tr>\n",
       "      <th>4</th>\n",
       "      <td>median of best RMSD (mols present in all)</td>\n",
       "      <td>0.092186</td>\n",
       "      <td>0.099382</td>\n",
       "      <td>0.123120</td>\n",
       "      <td>0.132934</td>\n",
       "    </tr>\n",
       "  </tbody>\n",
       "</table>\n",
       "</div>"
      ],
      "text/plain": [
       "                                              MMFF original  \\\n",
       "0                  total count (out of 5000)    4807.000000   \n",
       "1                  success percent (per mol)      98.787185   \n",
       "2  median of mean RMSD (mols present in all)       0.382852   \n",
       "3   median of std RMSD (mols present in all)       0.178316   \n",
       "4  median of best RMSD (mols present in all)       0.092186   \n",
       "\n",
       "   NN + MMFF (random coord/no chiral)  UFF original  \\\n",
       "0                         3646.000000   4807.000000   \n",
       "1                           92.246846     98.787185   \n",
       "2                            0.242689      0.390513   \n",
       "3                            0.065284      0.168663   \n",
       "4                            0.099382      0.123120   \n",
       "\n",
       "   NN + UFF (random coord/no chiral)  \n",
       "0                        3646.000000  \n",
       "1                          92.246846  \n",
       "2                           0.269165  \n",
       "3                           0.053723  \n",
       "4                           0.132934  "
      ]
     },
     "execution_count": 5,
     "metadata": {},
     "output_type": "execute_result"
    }
   ],
   "source": [
    "def success_rate_permol(results, result_type):\n",
    "    success = 0\n",
    "    for k in results.keys():\n",
    "        if result_type in results[k]:\n",
    "            success += len(results[k][result_type])\n",
    "    return ((success / (len(results.keys()) * 100)) * 100)\n",
    "\n",
    "def total_count(results, result_type):\n",
    "    count = 0\n",
    "    for k in results.keys():\n",
    "        if result_type in results[k]:\n",
    "            count += 1\n",
    "    return count\n",
    "\n",
    "def parse_results(results, keys, result_type):\n",
    "    mean, std, best = [], [], []\n",
    "    for k in keys:\n",
    "        mean.append(np.mean(results[k][result_type]))\n",
    "        std.append(np.std(results[k][result_type]))\n",
    "        best.append(np.min(results[k][result_type]))\n",
    "    return np.median(mean), np.median(std), np.median(best)\n",
    "\n",
    "overlap_keys = []\n",
    "for k in nn_ff_mols_newopt.keys():\n",
    "    if k in ff_mols_orig.keys():\n",
    "        overlap_keys.append(k)\n",
    "\n",
    "ff_mols_orig_mmff = parse_results(ff_mols_orig, overlap_keys, 'mmff')\n",
    "nn_ff_mols_newopt_mmff = parse_results(nn_ff_mols_newopt, overlap_keys, 'mmff')\n",
    "\n",
    "ff_mols_orig_uff = parse_results(ff_mols_orig, overlap_keys, 'uff')\n",
    "nn_ff_mols_newopt_uff = parse_results(nn_ff_mols_newopt, overlap_keys, 'uff')\n",
    "\n",
    "\n",
    "total_count_stats = ['total count (out of 5000)', total_count(ff_mols_orig, 'mmff'), total_count(nn_ff_mols_newopt, 'mmff'), total_count(ff_mols_orig, 'uff'), total_count(nn_ff_mols_newopt, 'uff')]\n",
    "success_rate_stats = ['success percent (per mol)', success_rate_permol(ff_mols_orig, 'mmff'), success_rate_permol(nn_ff_mols_newopt, 'mmff'), success_rate_permol(ff_mols_orig, 'uff'), success_rate_permol(nn_ff_mols_newopt, 'uff')]\n",
    "mean_stats = ['median of mean RMSD (mols present in all)', ff_mols_orig_mmff[0], nn_ff_mols_newopt_mmff[0], ff_mols_orig_uff[0], nn_ff_mols_newopt_uff[0]]\n",
    "std_stats = ['median of std RMSD (mols present in all)', ff_mols_orig_mmff[1], nn_ff_mols_newopt_mmff[1], ff_mols_orig_uff[1], nn_ff_mols_newopt_uff[1]]\n",
    "best_stats = ['median of best RMSD (mols present in all)', ff_mols_orig_mmff[2], nn_ff_mols_newopt_mmff[2], ff_mols_orig_uff[2], nn_ff_mols_newopt_uff[2]]\n",
    "\n",
    "pd.DataFrame([total_count_stats, success_rate_stats, mean_stats, std_stats, best_stats], columns=['', 'MMFF original', 'NN + MMFF (random coord/no chiral)', 'UFF original', 'NN + UFF (random coord/no chiral)'])\n"
   ]
  },
  {
   "cell_type": "code",
   "execution_count": null,
   "metadata": {},
   "outputs": [],
   "source": []
  }
 ],
 "metadata": {
  "kernelspec": {
   "display_name": "Python 3",
   "language": "python",
   "name": "python3"
  },
  "language_info": {
   "codemirror_mode": {
    "name": "ipython",
    "version": 3
   },
   "file_extension": ".py",
   "mimetype": "text/x-python",
   "name": "python",
   "nbconvert_exporter": "python",
   "pygments_lexer": "ipython3",
   "version": "3.6.4"
  }
 },
 "nbformat": 4,
 "nbformat_minor": 2
}
