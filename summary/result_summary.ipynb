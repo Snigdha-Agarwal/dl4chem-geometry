{
 "cells": [
  {
   "cell_type": "code",
   "execution_count": 7,
   "metadata": {},
   "outputs": [],
   "source": [
    "import pickle as pkl\n",
    "import numpy as np\n",
    "import matplotlib.pyplot as plt\n",
    "import pandas as pd"
   ]
  },
  {
   "cell_type": "code",
   "execution_count": 8,
   "metadata": {},
   "outputs": [],
   "source": [
    "dataset='COD'"
   ]
  },
  {
   "cell_type": "code",
   "execution_count": 9,
   "metadata": {},
   "outputs": [],
   "source": [
    "tst_uff = pkl.load(open(dataset+'_test_uff.p','rb'))\n",
    "tst_mmff = pkl.load(open(dataset+'_test_mmff.p','rb'))\n",
    "tst_nn = pkl.load(open(dataset+'_test_nn.p','rb'))\n",
    "tst_nn_FF = pkl.load(open(dataset+'_test_nn_FF.p','rb'))\n",
    "bins = np.linspace(0,5,50)"
   ]
  },
  {
   "cell_type": "code",
   "execution_count": 16,
   "metadata": {},
   "outputs": [
    {
     "data": {
      "text/html": [
       "<div>\n",
       "<style scoped>\n",
       "    .dataframe tbody tr th:only-of-type {\n",
       "        vertical-align: middle;\n",
       "    }\n",
       "\n",
       "    .dataframe tbody tr th {\n",
       "        vertical-align: top;\n",
       "    }\n",
       "\n",
       "    .dataframe thead th {\n",
       "        text-align: right;\n",
       "    }\n",
       "</style>\n",
       "<table border=\"1\" class=\"dataframe\">\n",
       "  <thead>\n",
       "    <tr style=\"text-align: right;\">\n",
       "      <th></th>\n",
       "      <th></th>\n",
       "      <th>UFF</th>\n",
       "      <th>MMFF</th>\n",
       "      <th>Proposed</th>\n",
       "      <th>Proposed_with_FF</th>\n",
       "    </tr>\n",
       "  </thead>\n",
       "  <tbody>\n",
       "    <tr>\n",
       "      <th>0</th>\n",
       "      <td>total count</td>\n",
       "      <td>2983</td>\n",
       "      <td>2980</td>\n",
       "      <td>3000</td>\n",
       "      <td>3000</td>\n",
       "    </tr>\n",
       "    <tr>\n",
       "      <th>1</th>\n",
       "      <td>succes rate</td>\n",
       "      <td>99.8827</td>\n",
       "      <td>99.8826</td>\n",
       "      <td>100</td>\n",
       "      <td>-</td>\n",
       "    </tr>\n",
       "    <tr>\n",
       "      <th>2</th>\n",
       "      <td></td>\n",
       "      <td></td>\n",
       "      <td></td>\n",
       "      <td></td>\n",
       "      <td></td>\n",
       "    </tr>\n",
       "    <tr>\n",
       "      <th>3</th>\n",
       "      <td>RMSD mean</td>\n",
       "      <td>1.5055</td>\n",
       "      <td>1.4794</td>\n",
       "      <td>1.506</td>\n",
       "      <td>1.7485</td>\n",
       "    </tr>\n",
       "    <tr>\n",
       "      <th>4</th>\n",
       "      <td>RMSD std</td>\n",
       "      <td>0.4018</td>\n",
       "      <td>0.4041</td>\n",
       "      <td>0.1164</td>\n",
       "      <td>0.4056</td>\n",
       "    </tr>\n",
       "  </tbody>\n",
       "</table>\n",
       "</div>"
      ],
      "text/plain": [
       "                    UFF     MMFF Proposed Proposed_with_FF\n",
       "0  total count     2983     2980     3000             3000\n",
       "1  succes rate  99.8827  99.8826      100                -\n",
       "2                                                         \n",
       "3    RMSD mean   1.5055   1.4794    1.506           1.7485\n",
       "4     RMSD std   0.4018   0.4041   0.1164           0.4056"
      ]
     },
     "execution_count": 16,
     "metadata": {},
     "output_type": "execute_result"
    }
   ],
   "source": [
    "pd.DataFrame([['total count',len(tst_uff[:,0]),len(tst_mmff[:,0]),len(tst_nn[:,0]),len(tst_nn_FF[:,0])],\n",
    "            ['succes rate',np.mean(tst_uff,0)[2]*10,np.mean(tst_mmff,0)[2]*10,100,'-'],\n",
    "            ['']*5,\n",
    "            ['RMSD mean',np.round(np.mean(tst_uff,0)[0],4), np.round(np.mean(tst_mmff,0)[0],4), np.round(np.mean(tst_nn,0)[0],4), np.round(np.mean(tst_nn_FF,0)[0],4)],\n",
    "            ['RMSD std',np.round(np.mean(tst_uff,0)[1],4), np.round(np.mean(tst_mmff,0)[1],4), np.round(np.mean(tst_nn,0)[1],4), np.round(np.mean(tst_nn_FF,0)[1],4)]],\n",
    "            columns=['','UFF','MMFF','Proposed','Proposed_with_FF'])"
   ]
  },
  {
   "cell_type": "code",
   "execution_count": 11,
   "metadata": {},
   "outputs": [
    {
     "data": {
      "text/html": [
       "<div>\n",
       "<style scoped>\n",
       "    .dataframe tbody tr th:only-of-type {\n",
       "        vertical-align: middle;\n",
       "    }\n",
       "\n",
       "    .dataframe tbody tr th {\n",
       "        vertical-align: top;\n",
       "    }\n",
       "\n",
       "    .dataframe thead th {\n",
       "        text-align: right;\n",
       "    }\n",
       "</style>\n",
       "<table border=\"1\" class=\"dataframe\">\n",
       "  <thead>\n",
       "    <tr style=\"text-align: right;\">\n",
       "      <th></th>\n",
       "      <th>RMSD range</th>\n",
       "      <th>UFF</th>\n",
       "      <th>MMFF</th>\n",
       "      <th>Proposed</th>\n",
       "      <th>Proposed_with_FF</th>\n",
       "    </tr>\n",
       "  </thead>\n",
       "  <tbody>\n",
       "    <tr>\n",
       "      <th>0</th>\n",
       "      <td>&lt;0.0</td>\n",
       "      <td>0.00</td>\n",
       "      <td>0.00</td>\n",
       "      <td>0.00</td>\n",
       "      <td>0.00</td>\n",
       "    </tr>\n",
       "    <tr>\n",
       "      <th>1</th>\n",
       "      <td>&lt;0.25</td>\n",
       "      <td>3.62</td>\n",
       "      <td>4.03</td>\n",
       "      <td>0.00</td>\n",
       "      <td>2.77</td>\n",
       "    </tr>\n",
       "    <tr>\n",
       "      <th>2</th>\n",
       "      <td>&lt;0.5</td>\n",
       "      <td>6.81</td>\n",
       "      <td>7.42</td>\n",
       "      <td>1.00</td>\n",
       "      <td>4.50</td>\n",
       "    </tr>\n",
       "    <tr>\n",
       "      <th>3</th>\n",
       "      <td>&lt;0.75</td>\n",
       "      <td>14.42</td>\n",
       "      <td>15.30</td>\n",
       "      <td>6.50</td>\n",
       "      <td>8.80</td>\n",
       "    </tr>\n",
       "    <tr>\n",
       "      <th>4</th>\n",
       "      <td>&lt;1.0</td>\n",
       "      <td>25.38</td>\n",
       "      <td>26.74</td>\n",
       "      <td>19.30</td>\n",
       "      <td>15.57</td>\n",
       "    </tr>\n",
       "    <tr>\n",
       "      <th>5</th>\n",
       "      <td>&lt;1.25</td>\n",
       "      <td>40.30</td>\n",
       "      <td>41.44</td>\n",
       "      <td>39.40</td>\n",
       "      <td>27.07</td>\n",
       "    </tr>\n",
       "    <tr>\n",
       "      <th>6</th>\n",
       "      <td>&lt;1.5</td>\n",
       "      <td>54.37</td>\n",
       "      <td>55.84</td>\n",
       "      <td>58.43</td>\n",
       "      <td>40.70</td>\n",
       "    </tr>\n",
       "    <tr>\n",
       "      <th>7</th>\n",
       "      <td>&lt;1.75</td>\n",
       "      <td>66.88</td>\n",
       "      <td>68.59</td>\n",
       "      <td>70.77</td>\n",
       "      <td>54.07</td>\n",
       "    </tr>\n",
       "    <tr>\n",
       "      <th>8</th>\n",
       "      <td>&lt;2.0</td>\n",
       "      <td>77.07</td>\n",
       "      <td>78.12</td>\n",
       "      <td>79.93</td>\n",
       "      <td>66.20</td>\n",
       "    </tr>\n",
       "    <tr>\n",
       "      <th>9</th>\n",
       "      <td>&lt;2.25</td>\n",
       "      <td>84.71</td>\n",
       "      <td>84.83</td>\n",
       "      <td>86.93</td>\n",
       "      <td>75.50</td>\n",
       "    </tr>\n",
       "    <tr>\n",
       "      <th>10</th>\n",
       "      <td>&lt;2.5</td>\n",
       "      <td>89.61</td>\n",
       "      <td>89.90</td>\n",
       "      <td>92.00</td>\n",
       "      <td>82.53</td>\n",
       "    </tr>\n",
       "    <tr>\n",
       "      <th>11</th>\n",
       "      <td>&lt;2.75</td>\n",
       "      <td>93.33</td>\n",
       "      <td>93.89</td>\n",
       "      <td>96.40</td>\n",
       "      <td>88.20</td>\n",
       "    </tr>\n",
       "    <tr>\n",
       "      <th>12</th>\n",
       "      <td>&lt;3.0</td>\n",
       "      <td>95.91</td>\n",
       "      <td>96.21</td>\n",
       "      <td>98.43</td>\n",
       "      <td>92.57</td>\n",
       "    </tr>\n",
       "    <tr>\n",
       "      <th>13</th>\n",
       "      <td>&lt;3.25</td>\n",
       "      <td>97.65</td>\n",
       "      <td>97.89</td>\n",
       "      <td>99.27</td>\n",
       "      <td>95.97</td>\n",
       "    </tr>\n",
       "    <tr>\n",
       "      <th>14</th>\n",
       "      <td>&lt;3.5</td>\n",
       "      <td>98.73</td>\n",
       "      <td>98.76</td>\n",
       "      <td>99.60</td>\n",
       "      <td>98.13</td>\n",
       "    </tr>\n",
       "  </tbody>\n",
       "</table>\n",
       "</div>"
      ],
      "text/plain": [
       "   RMSD range    UFF   MMFF  Proposed  Proposed_with_FF\n",
       "0        <0.0   0.00   0.00      0.00              0.00\n",
       "1       <0.25   3.62   4.03      0.00              2.77\n",
       "2        <0.5   6.81   7.42      1.00              4.50\n",
       "3       <0.75  14.42  15.30      6.50              8.80\n",
       "4        <1.0  25.38  26.74     19.30             15.57\n",
       "5       <1.25  40.30  41.44     39.40             27.07\n",
       "6        <1.5  54.37  55.84     58.43             40.70\n",
       "7       <1.75  66.88  68.59     70.77             54.07\n",
       "8        <2.0  77.07  78.12     79.93             66.20\n",
       "9       <2.25  84.71  84.83     86.93             75.50\n",
       "10       <2.5  89.61  89.90     92.00             82.53\n",
       "11      <2.75  93.33  93.89     96.40             88.20\n",
       "12       <3.0  95.91  96.21     98.43             92.57\n",
       "13      <3.25  97.65  97.89     99.27             95.97\n",
       "14       <3.5  98.73  98.76     99.60             98.13"
      ]
     },
     "execution_count": 11,
     "metadata": {},
     "output_type": "execute_result"
    }
   ],
   "source": [
    "pd.DataFrame([['<'+str(0.25*i),\n",
    "             np.round(np.mean(tst_uff[:,0]<0.25*i)*100,2),\n",
    "             np.round(np.mean(tst_mmff[:,0]<0.25*i)*100,2),\n",
    "             np.round(np.mean(tst_nn[:,0]<0.25*i)*100,2),\n",
    "             np.round(np.mean(tst_nn_FF[:,0]<0.25*i)*100,2)] for i in range(15)],\n",
    "             columns=['RMSD range','UFF','MMFF','Proposed','Proposed_with_FF'])"
   ]
  },
  {
   "cell_type": "code",
   "execution_count": 12,
   "metadata": {},
   "outputs": [
    {
     "data": {
      "image/png": "[encoded data removed]",
      "text/plain": [
       "<Figure size 432x288 with 1 Axes>"
      ]
     },
     "metadata": {
      "needs_background": "light"
     },
     "output_type": "display_data"
    }
   ],
   "source": [
    "hist_uff = plt.hist(tst_uff[:,0],bins)"
   ]
  },
  {
   "cell_type": "code",
   "execution_count": 13,
   "metadata": {},
   "outputs": [
    {
     "data": {
      "image/png": "[encoded data removed]",
      "text/plain": [
       "<Figure size 432x288 with 1 Axes>"
      ]
     },
     "metadata": {
      "needs_background": "light"
     },
     "output_type": "display_data"
    }
   ],
   "source": [
    "hist_mmff = plt.hist(tst_mmff[:,0],bins)"
   ]
  },
  {
   "cell_type": "code",
   "execution_count": 14,
   "metadata": {},
   "outputs": [
    {
     "data": {
      "image/png": "[encoded data removed]",
      "text/plain": [
       "<Figure size 432x288 with 1 Axes>"
      ]
     },
     "metadata": {
      "needs_background": "light"
     },
     "output_type": "display_data"
    }
   ],
   "source": [
    "hist_nn = plt.hist(tst_nn[:,0],bins)"
   ]
  },
  {
   "cell_type": "code",
   "execution_count": 15,
   "metadata": {},
   "outputs": [
    {
     "data": {
      "image/png": "[encoded data removed]",
      "text/plain": [
       "<Figure size 432x288 with 1 Axes>"
      ]
     },
     "metadata": {
      "needs_background": "light"
     },
     "output_type": "display_data"
    }
   ],
   "source": [
    "hist_nn_FF = plt.hist(tst_nn_FF[:,0],bins)"
   ]
  }
 ],
 "metadata": {
  "kernelspec": {
   "display_name": "Python 3",
   "language": "python",
   "name": "python3"
  },
  "language_info": {
   "codemirror_mode": {
    "name": "ipython",
    "version": 3
   },
   "file_extension": ".py",
   "mimetype": "text/x-python",
   "name": "python",
   "nbconvert_exporter": "python",
   "pygments_lexer": "ipython3",
   "version": "3.6.6"
  }
 },
 "nbformat": 4,
 "nbformat_minor": 2
}
