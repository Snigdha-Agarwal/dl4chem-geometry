{
 "cells": [
  {
   "cell_type": "code",
   "execution_count": 1,
   "metadata": {},
   "outputs": [],
   "source": [
    "import pickle as pkl\n",
    "import numpy as np\n",
    "import matplotlib.pyplot as plt\n",
    "import pandas as pd\n",
    "%matplotlib inline"
   ]
  },
  {
   "cell_type": "code",
   "execution_count": 2,
   "metadata": {},
   "outputs": [],
   "source": [
    "dataset='COD'"
   ]
  },
  {
   "cell_type": "code",
   "execution_count": 3,
   "metadata": {},
   "outputs": [],
   "source": [
    "tst_uff = pkl.load(open(dataset+'_test_uff.p','rb'))\n",
    "tst_mmff = pkl.load(open(dataset+'_test_mmff.p','rb'))\n",
    "tst_nn = pkl.load(open(dataset+'_test_nn.p','rb'))\n",
    "bins = np.linspace(0,5,50)"
   ]
  },
  {
   "cell_type": "code",
   "execution_count": 4,
   "metadata": {},
   "outputs": [
    {
     "data": {
      "text/html": [
       "<div>\n",
       "<style scoped>\n",
       "    .dataframe tbody tr th:only-of-type {\n",
       "        vertical-align: middle;\n",
       "    }\n",
       "\n",
       "    .dataframe tbody tr th {\n",
       "        vertical-align: top;\n",
       "    }\n",
       "\n",
       "    .dataframe thead th {\n",
       "        text-align: right;\n",
       "    }\n",
       "</style>\n",
       "<table border=\"1\" class=\"dataframe\">\n",
       "  <thead>\n",
       "    <tr style=\"text-align: right;\">\n",
       "      <th></th>\n",
       "      <th></th>\n",
       "      <th>UFF</th>\n",
       "      <th>MMFF</th>\n",
       "      <th>Proposed</th>\n",
       "    </tr>\n",
       "  </thead>\n",
       "  <tbody>\n",
       "    <tr>\n",
       "      <th>0</th>\n",
       "      <td>total count</td>\n",
       "      <td>2983.000000</td>\n",
       "      <td>2980.00000</td>\n",
       "      <td>3000.0000</td>\n",
       "    </tr>\n",
       "    <tr>\n",
       "      <th>1</th>\n",
       "      <td>succes rate</td>\n",
       "      <td>99.882668</td>\n",
       "      <td>99.88255</td>\n",
       "      <td>100.0000</td>\n",
       "    </tr>\n",
       "    <tr>\n",
       "      <th>2</th>\n",
       "      <td>average of RMSD mean</td>\n",
       "      <td>1.505500</td>\n",
       "      <td>1.47940</td>\n",
       "      <td>1.4789</td>\n",
       "    </tr>\n",
       "    <tr>\n",
       "      <th>3</th>\n",
       "      <td>median of RMSD mean</td>\n",
       "      <td>1.425900</td>\n",
       "      <td>1.39380</td>\n",
       "      <td>1.3541</td>\n",
       "    </tr>\n",
       "    <tr>\n",
       "      <th>4</th>\n",
       "      <td>average of RMSD std</td>\n",
       "      <td>0.401800</td>\n",
       "      <td>0.40410</td>\n",
       "      <td>0.1062</td>\n",
       "    </tr>\n",
       "    <tr>\n",
       "      <th>5</th>\n",
       "      <td>median of RMSD std</td>\n",
       "      <td>0.375300</td>\n",
       "      <td>0.37540</td>\n",
       "      <td>0.0658</td>\n",
       "    </tr>\n",
       "  </tbody>\n",
       "</table>\n",
       "</div>"
      ],
      "text/plain": [
       "                                 UFF        MMFF   Proposed\n",
       "0           total count  2983.000000  2980.00000  3000.0000\n",
       "1           succes rate    99.882668    99.88255   100.0000\n",
       "2  average of RMSD mean     1.505500     1.47940     1.4789\n",
       "3   median of RMSD mean     1.425900     1.39380     1.3541\n",
       "4   average of RMSD std     0.401800     0.40410     0.1062\n",
       "5    median of RMSD std     0.375300     0.37540     0.0658"
      ]
     },
     "execution_count": 4,
     "metadata": {},
     "output_type": "execute_result"
    }
   ],
   "source": [
    "pd.DataFrame([['total count',len(tst_uff[:,0]),len(tst_mmff[:,0]),len(tst_nn[:,0])],\n",
    "            ['succes rate',np.mean(tst_uff,0)[2]*10,np.mean(tst_mmff,0)[2]*10,100],\n",
    "            ['average of RMSD mean',np.round(np.mean(tst_uff,0)[0],4), np.round(np.mean(tst_mmff,0)[0],4), np.round(np.mean(tst_nn,0)[0],4)],\n",
    "            ['median of RMSD mean',np.round(np.median(tst_uff,0)[0],4), np.round(np.median(tst_mmff,0)[0],4), np.round(np.median(tst_nn,0)[0],4)],\n",
    "            ['average of RMSD std',np.round(np.mean(tst_uff,0)[1],4), np.round(np.mean(tst_mmff,0)[1],4), np.round(np.mean(tst_nn,0)[1],4)],\n",
    "            ['median of RMSD std',np.round(np.median(tst_uff,0)[1],4), np.round(np.median(tst_mmff,0)[1],4), np.round(np.median(tst_nn,0)[1],4)]],\n",
    "            columns=['','UFF','MMFF','Proposed'])"
   ]
  },
  {
   "cell_type": "code",
   "execution_count": 5,
   "metadata": {},
   "outputs": [
    {
     "data": {
      "text/html": [
       "<div>\n",
       "<style scoped>\n",
       "    .dataframe tbody tr th:only-of-type {\n",
       "        vertical-align: middle;\n",
       "    }\n",
       "\n",
       "    .dataframe tbody tr th {\n",
       "        vertical-align: top;\n",
       "    }\n",
       "\n",
       "    .dataframe thead th {\n",
       "        text-align: right;\n",
       "    }\n",
       "</style>\n",
       "<table border=\"1\" class=\"dataframe\">\n",
       "  <thead>\n",
       "    <tr style=\"text-align: right;\">\n",
       "      <th></th>\n",
       "      <th>RMSD range</th>\n",
       "      <th>UFF</th>\n",
       "      <th>MMFF</th>\n",
       "      <th>Proposed</th>\n",
       "    </tr>\n",
       "  </thead>\n",
       "  <tbody>\n",
       "    <tr>\n",
       "      <th>0</th>\n",
       "      <td>&lt;0.0</td>\n",
       "      <td>0.00</td>\n",
       "      <td>0.00</td>\n",
       "      <td>0.00</td>\n",
       "    </tr>\n",
       "    <tr>\n",
       "      <th>1</th>\n",
       "      <td>&lt;0.25</td>\n",
       "      <td>3.62</td>\n",
       "      <td>4.03</td>\n",
       "      <td>0.10</td>\n",
       "    </tr>\n",
       "    <tr>\n",
       "      <th>2</th>\n",
       "      <td>&lt;0.5</td>\n",
       "      <td>6.81</td>\n",
       "      <td>7.42</td>\n",
       "      <td>1.83</td>\n",
       "    </tr>\n",
       "    <tr>\n",
       "      <th>3</th>\n",
       "      <td>&lt;0.75</td>\n",
       "      <td>14.42</td>\n",
       "      <td>15.30</td>\n",
       "      <td>7.90</td>\n",
       "    </tr>\n",
       "    <tr>\n",
       "      <th>4</th>\n",
       "      <td>&lt;1.0</td>\n",
       "      <td>25.38</td>\n",
       "      <td>26.74</td>\n",
       "      <td>20.77</td>\n",
       "    </tr>\n",
       "    <tr>\n",
       "      <th>5</th>\n",
       "      <td>&lt;1.25</td>\n",
       "      <td>40.30</td>\n",
       "      <td>41.44</td>\n",
       "      <td>41.00</td>\n",
       "    </tr>\n",
       "    <tr>\n",
       "      <th>6</th>\n",
       "      <td>&lt;1.5</td>\n",
       "      <td>54.37</td>\n",
       "      <td>55.84</td>\n",
       "      <td>59.97</td>\n",
       "    </tr>\n",
       "    <tr>\n",
       "      <th>7</th>\n",
       "      <td>&lt;1.75</td>\n",
       "      <td>66.88</td>\n",
       "      <td>68.59</td>\n",
       "      <td>71.87</td>\n",
       "    </tr>\n",
       "    <tr>\n",
       "      <th>8</th>\n",
       "      <td>&lt;2.0</td>\n",
       "      <td>77.07</td>\n",
       "      <td>78.12</td>\n",
       "      <td>80.73</td>\n",
       "    </tr>\n",
       "    <tr>\n",
       "      <th>9</th>\n",
       "      <td>&lt;2.25</td>\n",
       "      <td>84.71</td>\n",
       "      <td>84.83</td>\n",
       "      <td>87.27</td>\n",
       "    </tr>\n",
       "    <tr>\n",
       "      <th>10</th>\n",
       "      <td>&lt;2.5</td>\n",
       "      <td>89.61</td>\n",
       "      <td>89.90</td>\n",
       "      <td>92.47</td>\n",
       "    </tr>\n",
       "    <tr>\n",
       "      <th>11</th>\n",
       "      <td>&lt;2.75</td>\n",
       "      <td>93.33</td>\n",
       "      <td>93.89</td>\n",
       "      <td>96.63</td>\n",
       "    </tr>\n",
       "    <tr>\n",
       "      <th>12</th>\n",
       "      <td>&lt;3.0</td>\n",
       "      <td>95.91</td>\n",
       "      <td>96.21</td>\n",
       "      <td>98.47</td>\n",
       "    </tr>\n",
       "    <tr>\n",
       "      <th>13</th>\n",
       "      <td>&lt;3.25</td>\n",
       "      <td>97.65</td>\n",
       "      <td>97.89</td>\n",
       "      <td>99.20</td>\n",
       "    </tr>\n",
       "    <tr>\n",
       "      <th>14</th>\n",
       "      <td>&lt;3.5</td>\n",
       "      <td>98.73</td>\n",
       "      <td>98.76</td>\n",
       "      <td>99.60</td>\n",
       "    </tr>\n",
       "  </tbody>\n",
       "</table>\n",
       "</div>"
      ],
      "text/plain": [
       "   RMSD range    UFF   MMFF  Proposed\n",
       "0        <0.0   0.00   0.00      0.00\n",
       "1       <0.25   3.62   4.03      0.10\n",
       "2        <0.5   6.81   7.42      1.83\n",
       "3       <0.75  14.42  15.30      7.90\n",
       "4        <1.0  25.38  26.74     20.77\n",
       "5       <1.25  40.30  41.44     41.00\n",
       "6        <1.5  54.37  55.84     59.97\n",
       "7       <1.75  66.88  68.59     71.87\n",
       "8        <2.0  77.07  78.12     80.73\n",
       "9       <2.25  84.71  84.83     87.27\n",
       "10       <2.5  89.61  89.90     92.47\n",
       "11      <2.75  93.33  93.89     96.63\n",
       "12       <3.0  95.91  96.21     98.47\n",
       "13      <3.25  97.65  97.89     99.20\n",
       "14       <3.5  98.73  98.76     99.60"
      ]
     },
     "execution_count": 5,
     "metadata": {},
     "output_type": "execute_result"
    }
   ],
   "source": [
    "pd.DataFrame([['<'+str(0.25*i),\n",
    "             np.round(np.mean(tst_uff[:,0]<0.25*i)*100,2),\n",
    "             np.round(np.mean(tst_mmff[:,0]<0.25*i)*100,2),\n",
    "             np.round(np.mean(tst_nn[:,0]<0.25*i)*100,2)] for i in range(15)],\n",
    "             columns=['RMSD range','UFF','MMFF','Proposed'])"
   ]
  },
  {
   "cell_type": "code",
   "execution_count": 6,
   "metadata": {},
   "outputs": [
    {
     "data": {
      "image/png": "[encoded data removed]",
      "text/plain": [
       "<Figure size 432x288 with 1 Axes>"
      ]
     },
     "metadata": {
      "needs_background": "light"
     },
     "output_type": "display_data"
    }
   ],
   "source": [
    "hist_uff = plt.hist(tst_uff[:,0],bins)"
   ]
  },
  {
   "cell_type": "code",
   "execution_count": 7,
   "metadata": {},
   "outputs": [
    {
     "data": {
      "image/png": "[encoded data removed]",
      "text/plain": [
       "<Figure size 432x288 with 1 Axes>"
      ]
     },
     "metadata": {
      "needs_background": "light"
     },
     "output_type": "display_data"
    }
   ],
   "source": [
    "hist_mmff = plt.hist(tst_mmff[:,0],bins)"
   ]
  },
  {
   "cell_type": "code",
   "execution_count": 8,
   "metadata": {},
   "outputs": [
    {
     "data": {
      "image/png": "[encoded data removed]",
      "text/plain": [
       "<Figure size 432x288 with 1 Axes>"
      ]
     },
     "metadata": {
      "needs_background": "light"
     },
     "output_type": "display_data"
    }
   ],
   "source": [
    "hist_nn = plt.hist(tst_nn[:,0],bins)"
   ]
  }
 ],
 "metadata": {
  "kernelspec": {
   "display_name": "Python 3",
   "language": "python",
   "name": "python3"
  },
  "language_info": {
   "codemirror_mode": {
    "name": "ipython",
    "version": 3
   },
   "file_extension": ".py",
   "mimetype": "text/x-python",
   "name": "python",
   "nbconvert_exporter": "python",
   "pygments_lexer": "ipython3",
   "version": "3.6.6"
  }
 },
 "nbformat": 4,
 "nbformat_minor": 2
}
