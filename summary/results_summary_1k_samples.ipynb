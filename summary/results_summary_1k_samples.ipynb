{
 "cells": [
  {
   "cell_type": "code",
   "execution_count": 1,
   "metadata": {
    "collapsed": true
   },
   "outputs": [],
   "source": [
    "import pickle as pkl\n",
    "import numpy as np\n",
    "import matplotlib.pyplot as plt\n",
    "import pandas as pd\n",
    "%matplotlib inline"
   ]
  },
  {
   "cell_type": "code",
   "execution_count": 2,
   "metadata": {
    "collapsed": true
   },
   "outputs": [],
   "source": [
    "dataset='QM9'\n",
    "#num_samples = [10, 50, 100, 500, 1000]\n",
    "num_samples = np.arange(10, 1001, 100)\n",
    "num_samples = list(num_samples)"
   ]
  },
  {
   "cell_type": "code",
   "execution_count": 3,
   "metadata": {},
   "outputs": [
    {
     "name": "stdout",
     "output_type": "stream",
     "text": [
      "done 0/4829\n",
      "done 100/4829\n",
      "done 200/4829\n",
      "done 300/4829\n",
      "done 400/4829\n",
      "done 500/4829\n",
      "done 600/4829\n",
      "done 700/4829\n",
      "done 800/4829\n",
      "done 900/4829\n",
      "done 1000/4829\n",
      "done 1100/4829\n",
      "done 1200/4829\n",
      "done 1300/4829\n",
      "done 1400/4829\n",
      "done 1500/4829\n",
      "done 1600/4829\n",
      "done 1700/4829\n",
      "done 1800/4829\n",
      "done 1900/4829\n",
      "done 2000/4829\n",
      "done 2100/4829\n",
      "done 2200/4829\n",
      "done 2300/4829\n",
      "done 2400/4829\n",
      "done 2500/4829\n",
      "done 2600/4829\n",
      "done 2700/4829\n",
      "done 2800/4829\n",
      "done 2900/4829\n",
      "done 3000/4829\n",
      "done 3100/4829\n",
      "done 3200/4829\n",
      "done 3300/4829\n",
      "done 3400/4829\n",
      "done 3500/4829\n",
      "done 3600/4829\n",
      "done 3700/4829\n",
      "done 3800/4829\n",
      "done 3900/4829\n",
      "done 4000/4829\n",
      "done 4100/4829\n",
      "done 4200/4829\n",
      "done 4300/4829\n",
      "done 4400/4829\n",
      "done 4500/4829\n",
      "done 4600/4829\n",
      "done 4700/4829\n",
      "done 4800/4829\n",
      "time took 6.313008069992065\n"
     ]
    }
   ],
   "source": [
    "import os\n",
    "import time\n",
    "\n",
    "def get_mol_number_baseline(f_name):\n",
    "    return int(f_name.split('.')[0].split('_')[-1])\n",
    "\n",
    "# return best, mean, worst\n",
    "def summarize_results(results, s):\n",
    "    if results.shape[0] < s:\n",
    "        s = results.shape[0]\n",
    "    return np.min(results[:s]), np.mean(results[:s]), np.max(results[:s])\n",
    "\n",
    "def read_mols_baseline(folder):\n",
    "    f_names = os.listdir(folder)\n",
    "    mols_mmff, mols_uff  = {}, {}\n",
    "    total_mol_count = 0\n",
    "    total_conformer_count = []\n",
    "\n",
    "    for s in num_samples:\n",
    "        mols_mmff[s], mols_uff[s] = [], []\n",
    "    \n",
    "    total_mol_count = 0\n",
    "    t1 = time.time()\n",
    "    for f_i, f_name in enumerate(f_names):\n",
    "        if f_i % 100 == 0:\n",
    "            print (\"done {}/{}\".format(f_i, len(f_names)))\n",
    "        mol_num = get_mol_number_baseline(f_name)\n",
    "        mol = pkl.load(open(os.path.join(folder, f_name), 'rb'))\n",
    "        if mol['mmff'].shape[0] == 0 or mol['uff'].shape[0] == 0:\n",
    "            continue\n",
    "        total_conformer_count.append(np.min([mol['mmff'].shape[0], mol['uff'].shape[0]]))\n",
    "        for s in num_samples:\n",
    "            mols_mmff[s].append(summarize_results(mol['mmff'], s))\n",
    "            mols_uff[s].append(summarize_results(mol['uff'], s))\n",
    "        total_mol_count += 1\n",
    "    \n",
    "    total_conformer_count = np.array(total_conformer_count)\n",
    "    t2 = time.time()\n",
    "    print (\"time took {}\".format(t2-t1))\n",
    "    return mols_mmff, mols_uff, total_mol_count, total_conformer_count\n",
    "    #print (fs[0:10])\n",
    "\n",
    "    \n",
    "mols_mmff, mols_uff, baseline_mol_count, baseline_conformer_count = read_mols_baseline('baselines_1k/{}/_test_'.format(dataset))"
   ]
  },
  {
   "cell_type": "code",
   "execution_count": 4,
   "metadata": {},
   "outputs": [
    {
     "name": "stdout",
     "output_type": "stream",
     "text": [
      "done 0/5000\n",
      "done 100/5000\n",
      "done 200/5000\n",
      "done 300/5000\n",
      "done 400/5000\n",
      "done 500/5000\n",
      "done 600/5000\n",
      "done 700/5000\n",
      "done 800/5000\n",
      "done 900/5000\n",
      "done 1000/5000\n",
      "done 1100/5000\n",
      "done 1200/5000\n",
      "done 1300/5000\n",
      "done 1400/5000\n",
      "done 1500/5000\n",
      "done 1600/5000\n",
      "done 1700/5000\n",
      "done 1800/5000\n",
      "done 1900/5000\n",
      "done 2000/5000\n",
      "done 2100/5000\n",
      "done 2200/5000\n",
      "done 2300/5000\n",
      "done 2400/5000\n",
      "done 2500/5000\n",
      "done 2600/5000\n",
      "done 2700/5000\n",
      "done 2800/5000\n",
      "done 2900/5000\n",
      "done 3000/5000\n",
      "done 3100/5000\n",
      "done 3200/5000\n",
      "done 3300/5000\n",
      "done 3400/5000\n",
      "done 3500/5000\n",
      "done 3600/5000\n",
      "done 3700/5000\n",
      "done 3800/5000\n",
      "done 3900/5000\n",
      "done 4000/5000\n",
      "done 4100/5000\n",
      "done 4200/5000\n",
      "done 4300/5000\n",
      "done 4400/5000\n",
      "done 4500/5000\n",
      "done 4600/5000\n",
      "done 4700/5000\n",
      "done 4800/5000\n",
      "done 4900/5000\n",
      "time took 5.8958899974823\n"
     ]
    }
   ],
   "source": [
    "import os\n",
    "import time\n",
    "\n",
    "# return best, mean, worst\n",
    "def summarize_results(results, s):\n",
    "    if results.shape[0] < s:\n",
    "        s = results.shape[0]\n",
    "    return np.min(results[:s]), np.mean(results[:s]), np.max(results[:s])\n",
    "\n",
    "def read_mols_neuralnet(folder):\n",
    "    f_names = os.listdir(folder)\n",
    "    mols_neuralnet = {}\n",
    "    total_mol_count = 0\n",
    "    total_conformer_count = []\n",
    "\n",
    "    for s in num_samples:\n",
    "        mols_neuralnet[s] = []\n",
    "    \n",
    "    total_mol_count = 0\n",
    "    t1 = time.time()\n",
    "    for f_i, f_name in enumerate(f_names):\n",
    "        if f_i % 100 == 0:\n",
    "            print (\"done {}/{}\".format(f_i, len(f_names)))\n",
    "        mol = pkl.load(open(os.path.join(folder, f_name), 'rb'))\n",
    "        if mol['rmsd'].shape[0] == 0:\n",
    "            continue\n",
    "        total_conformer_count.append(mol['rmsd'].shape[0])\n",
    "        for s in num_samples:\n",
    "            mols_neuralnet[s].append(summarize_results(mol['rmsd'], s))\n",
    "        total_mol_count += 1\n",
    "    \n",
    "    total_conformer_count = np.array(total_conformer_count)\n",
    "    t2 = time.time()\n",
    "    print (\"time took {}\".format(t2-t1))\n",
    "    return mols_neuralnet, total_mol_count, total_conformer_count\n",
    "    #print (fs[0:10])\n",
    "\n",
    "    \n",
    "mols_neuralnet, neuralnet_mol_count, neuralnet_conformer_count = read_mols_neuralnet('neuralnet_results/{}/_test_'.format(dataset))"
   ]
  },
  {
   "cell_type": "code",
   "execution_count": 5,
   "metadata": {},
   "outputs": [],
   "source": [
    "mols_mmff_plot, mols_uff_plot, mols_neuralnet_plot = {}, {}, {}\n",
    "for s in num_samples:\n",
    "    mols_mmff_plot[s] = np.median(mols_mmff[s], axis=0)\n",
    "    mols_uff_plot[s] = np.median(mols_uff[s], axis=0)\n",
    "    mols_neuralnet_plot[s] = np.median(mols_neuralnet[s], axis=0)\n"
   ]
  },
  {
   "cell_type": "code",
   "execution_count": null,
   "metadata": {},
   "outputs": [],
   "source": []
  },
  {
   "cell_type": "code",
   "execution_count": null,
   "metadata": {},
   "outputs": [],
   "source": []
  },
  {
   "cell_type": "code",
   "execution_count": null,
   "metadata": {},
   "outputs": [],
   "source": []
  },
  {
   "cell_type": "code",
   "execution_count": 8,
   "metadata": {
    "scrolled": false
   },
   "outputs": [
    {
     "data": {
      "text/plain": [
       "<matplotlib.text.Text at 0x10bf96400>"
      ]
     },
     "execution_count": 8,
     "metadata": {},
     "output_type": "execute_result"
    },
    {
     "data": {
      "image/png": "[encoded data removed]",
      "text/plain": [
       "<matplotlib.figure.Figure at 0x10ae43128>"
      ]
     },
     "metadata": {},
     "output_type": "display_data"
    }
   ],
   "source": [
    "color_defaults = [\n",
    "    '#1f77b4',  # muted blue\n",
    "    '#ff7f0e',  # safety orange\n",
    "    '#2ca02c',  # cooked asparagus green\n",
    "    '#d62728',  # brick red\n",
    "    '#9467bd',  # muted purple\n",
    "    '#8c564b',  # chestnut brown\n",
    "    '#e377c2',  # raspberry yogurt pink\n",
    "    '#7f7f7f',  # middle gray\n",
    "    '#bcbd22',  # curry yellow-green\n",
    "    '#17becf'  # blue-teal\n",
    "]\n",
    "\n",
    "def get_data(results_plot):\n",
    "    xs, lowers, medians, uppers = [], [], [], []\n",
    "    for i, s in enumerate(num_samples):\n",
    "        lower, median, upper = results_plot[s]\n",
    "        lower = np.array(median) - np.array(lower)\n",
    "        upper = np.array(upper) - np.array(median)\n",
    "        xs.append(s)\n",
    "        lowers.append(lower)\n",
    "        medians.append(median)\n",
    "        uppers.append(upper)\n",
    "    return xs, lowers, medians, uppers\n",
    "\n",
    "plt.figure(figsize=(11.5,8))\n",
    "\n",
    "xs, lowers_mmff, medians_mmff, uppers_mmff = get_data(mols_mmff_plot)\n",
    "_, lowers_uff, medians_uff, uppers_uff = get_data(mols_uff_plot)\n",
    "_, lowers_neuralnet, medians_neuralnet, uppers_neuralnet = get_data(mols_neuralnet_plot)\n",
    "\n",
    "lines = []\n",
    "names = [\"MMFF\", \"UFF\", \"Neural Net\"]\n",
    "\n",
    "lines.append(plt.errorbar(xs, medians_mmff, yerr=np.array([lowers_mmff, uppers_mmff]),\n",
    "            fmt='-o', color=color_defaults[0]))\n",
    "lines.append(plt.errorbar(xs, medians_uff, yerr=np.array([lowers_uff, uppers_uff]),\n",
    "            fmt='-o', color=color_defaults[1]))\n",
    "lines.append(plt.errorbar(xs, medians_neuralnet, yerr=np.array([lowers_neuralnet, uppers_neuralnet]),\n",
    "            fmt='-o', color=color_defaults[2]))\n",
    "\n",
    "\n",
    "plt.legend(lines, names, loc=1)\n",
    "plt.xlim([0,1010])\n",
    "if dataset == \"COD\":\n",
    "    plt.ylim([-0.1, 3])\n",
    "elif dataset == \"QM9\":\n",
    "    plt.ylim([-0.1, 1.0])\n",
    "plt.xlabel('Number of conformers per molecule')\n",
    "plt.ylabel('RMSD')\n",
    "plt.title(\"{} dataset results\".format(dataset))\n"
   ]
  },
  {
   "cell_type": "code",
   "execution_count": null,
   "metadata": {
    "collapsed": true
   },
   "outputs": [],
   "source": []
  }
 ],
 "metadata": {
  "anaconda-cloud": {},
  "kernelspec": {
   "display_name": "Python 3",
   "language": "python",
   "name": "python3"
  },
  "language_info": {
   "codemirror_mode": {
    "name": "ipython",
    "version": 3
   },
   "file_extension": ".py",
   "mimetype": "text/x-python",
   "name": "python",
   "nbconvert_exporter": "python",
   "pygments_lexer": "ipython3",
   "version": "3.6.4"
  }
 },
 "nbformat": 4,
 "nbformat_minor": 1
}
