{
 "cells": [
  {
   "cell_type": "code",
   "execution_count": 1,
   "metadata": {},
   "outputs": [],
   "source": [
    "# Results w.r.t. different properties of the molecule\n",
    "\n",
    "import pickle as pkl\n",
    "import numpy as np\n",
    "import matplotlib\n",
    "#matplotlib.rcParams.update({'font.size': 40})\n",
    "import matplotlib.pyplot as plt\n",
    "import seaborn as sns\n",
    "sns.set(style='whitegrid')\n",
    "import pandas as pd\n",
    "import os\n",
    "import time\n",
    "from collections import OrderedDict\n",
    "from summary_utils import read_mols_baseline, read_mols_neuralnet\n",
    "%matplotlib inline"
   ]
  },
  {
   "cell_type": "code",
   "execution_count": 2,
   "metadata": {},
   "outputs": [],
   "source": [
    "dataset = 'QM9'\n",
    "num_conformers = [100]\n",
    "result_type = \"min\"\n",
    "nn_hyperparams = [\"prior_T=1\"]"
   ]
  },
  {
   "cell_type": "code",
   "execution_count": 3,
   "metadata": {},
   "outputs": [
    {
     "name": "stdout",
     "output_type": "stream",
     "text": [
      "done 0 out of 5000\n",
      "done 500 out of 5000\n",
      "done 1000 out of 5000\n",
      "done 1500 out of 5000\n",
      "done 2000 out of 5000\n",
      "done 2500 out of 5000\n",
      "done 3000 out of 5000\n",
      "done 3500 out of 5000\n",
      "done 4000 out of 5000\n",
      "done 4500 out of 5000\n",
      "time took 0.9275882244110107\n"
     ]
    }
   ],
   "source": [
    "nn_mols = OrderedDict()\n",
    "for nn_i in nn_hyperparams:\n",
    "    nn_mols[nn_i] = read_mols_neuralnet('/home/mansimov/projects/dl4chem-geometry/results/nn/{}/{}/_test_'.format(nn_i, dataset), num_conformers)"
   ]
  },
  {
   "cell_type": "code",
   "execution_count": 4,
   "metadata": {},
   "outputs": [
    {
     "name": "stdout",
     "output_type": "stream",
     "text": [
      "done 0 out of 2377\n",
      "done 500 out of 2377\n",
      "done 1000 out of 2377\n",
      "done 1500 out of 2377\n",
      "done 2000 out of 2377\n",
      "time took 4.062881708145142\n"
     ]
    }
   ],
   "source": [
    "nn_ff_mols = read_mols_baseline('/home/mansimov/projects/dl4chem-geometry/results/nn_ff/{}/_test_/rep_100_iter_200/mols'.format(dataset), num_conformers)"
   ]
  },
  {
   "cell_type": "code",
   "execution_count": 5,
   "metadata": {},
   "outputs": [
    {
     "name": "stdout",
     "output_type": "stream",
     "text": [
      "done 0 out of 2558\n",
      "done 500 out of 2558\n",
      "done 1000 out of 2558\n",
      "done 1500 out of 2558\n",
      "done 2000 out of 2558\n",
      "done 2500 out of 2558\n",
      "time took 4.290606260299683\n"
     ]
    }
   ],
   "source": [
    "nn_dg_mols = read_mols_baseline('/home/mansimov/projects/dl4chem-geometry/results/nn_ff/{}/_test_/rep_100_iter_0/mols'.format(dataset), num_conformers)"
   ]
  },
  {
   "cell_type": "code",
   "execution_count": 6,
   "metadata": {},
   "outputs": [
    {
     "name": "stdout",
     "output_type": "stream",
     "text": [
      "done 0 out of 5000\n",
      "done 500 out of 5000\n",
      "done 1000 out of 5000\n",
      "done 1500 out of 5000\n",
      "done 2000 out of 5000\n",
      "done 2500 out of 5000\n",
      "done 3000 out of 5000\n",
      "done 3500 out of 5000\n",
      "done 4000 out of 5000\n",
      "done 4500 out of 5000\n",
      "time took 17.087188482284546\n"
     ]
    }
   ],
   "source": [
    "ff_mols = read_mols_baseline('/home/mansimov/projects/dl4chem-geometry/results/ff/{}/_test_/rep_100_iter_200/mols'.format(dataset), num_conformers)"
   ]
  },
  {
   "cell_type": "code",
   "execution_count": 7,
   "metadata": {},
   "outputs": [],
   "source": [
    "mols_summary = {}\n",
    "mols_summary[\"method\"] = []\n",
    "mols_summary[\"results\"] = []\n",
    "mols_summary[\"num_conformers\"] = []\n",
    "\n",
    "avail_keys = []\n",
    "for k in list(nn_ff_mols.keys()):\n",
    "    if k in list(ff_mols.keys()) and k in list(nn_dg_mols.keys()):\n",
    "        avail_keys.append(k)\n",
    "\n",
    "for n_conf in num_conformers:\n",
    "    min_mmff = [ff_mols[mol_num]['{}_mmff'.format(result_type)][n_conf] for mol_num in avail_keys]\n",
    "    min_uff = [ff_mols[mol_num]['{}_uff'.format(result_type)][n_conf] for mol_num in avail_keys]\n",
    "    \n",
    "    mols_summary['method'] = mols_summary['method'] + [\"MMFF\"] * len(min_mmff) + [\"UFF\"] * len(min_uff)\n",
    "    mols_summary['results'] = mols_summary['results'] + min_mmff + min_uff\n",
    "    mols_summary['num_conformers'] = mols_summary['num_conformers'] + [n_conf] * len(min_uff + min_mmff)\n",
    "\n",
    "    min_nn_mmff = [nn_ff_mols[mol_num]['{}_mmff'.format(result_type)][n_conf] for mol_num in avail_keys]\n",
    "    min_nn_uff = [nn_ff_mols[mol_num]['{}_uff'.format(result_type)][n_conf] for mol_num in avail_keys]\n",
    "    \n",
    "    mols_summary['method'] = mols_summary['method'] + [\"Neural Net + DG (MMFF)\"] * len(min_nn_mmff) + [\"Neural Net + DG (UFF)\"] * len(min_nn_uff)\n",
    "    mols_summary['results'] = mols_summary['results'] + min_nn_mmff + min_nn_uff\n",
    "    mols_summary['num_conformers'] = mols_summary['num_conformers'] + [n_conf] * len(min_nn_mmff + min_nn_uff)\n",
    "\n",
    "    min_nn_dg = [nn_dg_mols[mol_num]['{}_mmff'.format(result_type)][n_conf] for mol_num in avail_keys]\n",
    "    \n",
    "    mols_summary['method'] = mols_summary['method'] + [\"Neural Net + DG\"] * len(min_nn_dg)\n",
    "    mols_summary['results'] = mols_summary['results'] + min_nn_dg\n",
    "    mols_summary['num_conformers'] = mols_summary['num_conformers'] + [n_conf] * len(min_nn_dg)\n",
    "\n",
    "    for nn_i in nn_hyperparams:\n",
    "        nn_mol = nn_mols[nn_i]\n",
    "\n",
    "        ### NOTE keep in mind that for neural net we only use molecule indicies for which MMFF and UFF baselines succeeded\n",
    "        min_nn_rmsd = [nn_mol[mol_num]['{}_rmsd'.format(result_type)][n_conf] for mol_num in avail_keys]\n",
    "        #min_nn_rmsd = [nn_mol[mol_num]['median_rmsd'][n_conf] for mol_num in ff_mols.keys()]\n",
    "\n",
    "        #mols_summary['method'] = mols_summary['method'] + [\"Neural Net {}\".format(nn_i)] * len(min_nn_rmsd)\n",
    "        mols_summary['method'] = mols_summary['method'] + [\"Neural Net\"] * len(min_nn_rmsd)\n",
    "        mols_summary['results'] = mols_summary['results'] + min_nn_rmsd\n",
    "        mols_summary['num_conformers'] = mols_summary['num_conformers'] + [n_conf] * len(min_nn_rmsd)\n",
    "\n",
    "for k in mols_summary.keys():\n",
    "    mols_summary[k] = np.array(mols_summary[k])"
   ]
  },
  {
   "cell_type": "code",
   "execution_count": 8,
   "metadata": {},
   "outputs": [
    {
     "name": "stdout",
     "output_type": "stream",
     "text": [
      "(8856,)\n",
      "(8856,)\n",
      "(8856,)\n"
     ]
    },
    {
     "data": {
      "image/png": "[encoded data removed]",
      "text/plain": [
       "<Figure size 1332x756 with 1 Axes>"
      ]
     },
     "metadata": {},
     "output_type": "display_data"
    }
   ],
   "source": [
    "mols_summary[\"results\"] = pd.Series(mols_summary[\"results\"], dtype=\"float32\")\n",
    "mols_summary[\"method\"] = pd.Series(mols_summary[\"method\"], dtype=\"category\")\n",
    "mols_summary[\"num_conformers\"] = pd.Series(mols_summary[\"num_conformers\"], dtype=\"category\")\n",
    "\n",
    "print (mols_summary[\"results\"].shape)\n",
    "print (mols_summary[\"method\"].shape)\n",
    "print (mols_summary[\"num_conformers\"].shape)\n",
    "\n",
    "fig = plt.gcf()\n",
    "fig.set_size_inches(18.5, 10.5)\n",
    "#ax = sns.boxplot(x=\"method\", y=\"results\", hue=\"num_conformers\", data=ff_mols_summary)\n",
    "ax = sns.boxplot(x=\"num_conformers\", y=\"results\", hue=\"method\", data=mols_summary, showfliers=False)\n",
    "ax.set_xlabel('Number of generated conformers', fontsize=20)\n",
    "ax.set_ylabel('{} RMSD on {} dataset'.format(result_type, dataset), fontsize=20)\n",
    "#ax.set_ylabel('Median RMSD on {} dataset'.format(dataset), fontsize=20)\n",
    "plt.legend(loc='upper right')\n",
    "plt.setp(ax.get_legend().get_texts(), fontsize='20') # for legend text\n",
    "plt.setp(ax.get_legend().get_title(), fontsize='20') # for legend title\n",
    "ax.tick_params(labelsize=16)\n"
   ]
  },
  {
   "cell_type": "code",
   "execution_count": null,
   "metadata": {},
   "outputs": [],
   "source": []
  }
 ],
 "metadata": {
  "kernelspec": {
   "display_name": "Python 3",
   "language": "python",
   "name": "python3"
  },
  "language_info": {
   "codemirror_mode": {
    "name": "ipython",
    "version": 3
   },
   "file_extension": ".py",
   "mimetype": "text/x-python",
   "name": "python",
   "nbconvert_exporter": "python",
   "pygments_lexer": "ipython3",
   "version": "3.6.4"
  }
 },
 "nbformat": 4,
 "nbformat_minor": 2
}
