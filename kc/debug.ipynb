{
 "cells": [
  {
   "cell_type": "code",
   "execution_count": 1,
   "metadata": {},
   "outputs": [],
   "source": [
    "%matplotlib widget"
   ]
  },
  {
   "cell_type": "code",
   "execution_count": 2,
   "metadata": {},
   "outputs": [],
   "source": [
    "import pickle as pkl\n",
    "import numpy as np\n",
    "from sklearn.metrics.pairwise import euclidean_distances\n",
    "import copy, csv\n",
    "from rdkit import Chem \n",
    "from rdkit.Chem import AllChem\n",
    "import rdkit.Geometry as Geometry\n",
    "import pdb\n",
    "import pickle as pkl\n",
    "import os\n",
    "import getpass\n",
    "import logging\n",
    "\n",
    "import numpy"
   ]
  },
  {
   "cell_type": "code",
   "execution_count": 6,
   "metadata": {},
   "outputs": [],
   "source": [
    "orig_coords = numpy.array([[-0.01443023, -3.0990803 ,  1.3292968 ],\n",
    "       [ 0.10430805, -1.8171468 ,  0.95352185],\n",
    "       [-0.25510424, -1.348038  , -0.2800352 ],\n",
    "       [-0.30287   , -0.12065077, -0.783181  ],\n",
    "       [-0.23225069,  1.0987992 , -0.25925   ],\n",
    "       [-0.9856278 ,  1.8259783 ,  0.4598882 ],\n",
    "       [-0.026949  ,  1.3715398 ,  1.1998974 ],\n",
    "       [ 0.10771976,  0.242562  ,  2.2971797 ],\n",
    "       [ 0.09727437, -0.98582107,  2.0718298 ]], dtype='float32')\n",
    "\n",
    "# orig_coords = numpy.array([[-0.38866943, -2.3728359 ,  2.1966689 ],\n",
    "#        [-0.38858193, -1.8806777 ,  1.3422487 ],\n",
    "#        [-0.09767051, -0.46843705,  0.8001877 ],\n",
    "#        [ 0.9831269 , -0.42407602, -0.24033612],\n",
    "#        [-0.04255892,  0.06275284, -1.1687484 ],\n",
    "#        [-1.1457566 ,  0.14359272,  0.06276745],\n",
    "#        [-1.9038742 ,  0.08864039, -0.02204549],\n",
    "#        [ 0.2188501 ,  0.45626992,  1.9746497 ],\n",
    "#        [ 0.47660232,  1.2036736 ,  2.8962398 ]], dtype='float32')\n",
    "\n",
    "# orig_coords = numpy.array([[-0.4544983 , -3.3881435 ,  0.9875389 ],\n",
    "#        [-0.08907399, -2.5260272 ,  1.1621164 ],\n",
    "#        [-0.03031953, -1.1649685 ,  1.0085576 ],\n",
    "#        [-0.2707533 , -0.83433425, -0.3271659 ],\n",
    "#        [-0.3452333 ,  0.27908975, -0.8893958 ],\n",
    "#        [-0.2846185 ,  1.3445294 , -0.384991  ],\n",
    "#        [-0.10835311,  1.7497778 ,  0.9779881 ],\n",
    "#        [ 0.04251341,  0.9407583 ,  2.0830538 ],\n",
    "#        [ 0.04075948, -0.4349826 ,  2.0588734 ]], dtype='float32')\n",
    "\n",
    "# coords = numpy.concatenate([coords, numpy.zeros((9, 3))], axis=0)\n",
    "# coords += numpy.random.randn(coords.shape[0], 3)\n"
   ]
  },
  {
   "cell_type": "code",
   "execution_count": 20,
   "metadata": {},
   "outputs": [
    {
     "name": "stdout",
     "output_type": "stream",
     "text": [
      "DG: 10/10\n",
      "MMFF: 10/10\n"
     ]
    }
   ],
   "source": [
    "n_trials = 10\n",
    "n_succ = 0\n",
    "n_succ_mmff = 0\n",
    "\n",
    "coords_all = []\n",
    "mmff_coords_all = []\n",
    "\n",
    "\n",
    "for ii in range(n_trials):\n",
    "    coords = orig_coords# + numpy.random.randn(coords.shape[0], 3)\n",
    "\n",
    "\n",
    "    # mol_ref = Chem.MolFromSmiles('C[C@@H]1C=C[C@@H]2O[C@@H]2CO1')\n",
    "    # mol_ref = Chem.MolFromSmiles('C[C]1C=C[C]2O[C]2CO1')\n",
    "    # mol_ref = Chem.MolFromSmiles('N#C[C@H]1CN=CNC=N1')\n",
    "    mol_ref = Chem.MolFromSmiles('C#C[C@]1(CO)CC[C@H]1O')\n",
    "    \n",
    "    mol_ref = Chem.RemoveHs(mol_ref)\n",
    "\n",
    "    n_est = mol_ref.GetNumAtoms()\n",
    "    coord_map = {}\n",
    "    for k in range(n_est):\n",
    "        point_k = Geometry.Point3D(*coords[k,:].tolist())\n",
    "        coord_map[k] = point_k\n",
    "\n",
    "    mol_init_1=Chem.AddHs(mol_ref)\n",
    "    \n",
    "#     print(Chem.MolToSmiles(mol_init_1))\n",
    "\n",
    "#     n_hs = mol_init_1.GetNumAtoms() - mol_ref.GetNumAtoms()\n",
    "#     for k in range(n_hs):\n",
    "#         point_k = Geometry.Point3D(*numpy.random.randn(3).tolist())\n",
    "#         coord_map[n_est+k] = point_k\n",
    "\n",
    "#     mol_init_1 = copy.deepcopy(mol_ref)\n",
    "\n",
    "    mol_init_1.RemoveConformer(0)\n",
    "\n",
    "    ret = AllChem.EmbedMolecule(mol_init_1, \n",
    "                                coordMap=coord_map, \n",
    "                                useRandomCoords=True,\n",
    "                                enforceChirality=False,\n",
    "                                ignoreSmoothingFailures=True)\n",
    "#     print('return=',ret)\n",
    "    \n",
    "    if ret == 0:\n",
    "        n_succ = n_succ + 1\n",
    "        coords_all.append(mol_init_1.GetConformer().GetPositions())\n",
    "        \n",
    "    mol_baseMMFF = copy.deepcopy(mol_init_1)\n",
    "    mmff_out = AllChem.MMFFOptimizeMolecule(mol_baseMMFF, maxIters=1000)\n",
    "    if mmff_out == 0:\n",
    "        n_succ_mmff = n_succ_mmff + 1\n",
    "        mol_baseMMFF=Chem.RemoveHs(mol_baseMMFF)\n",
    "        mmff_coords_all.append(mol_baseMMFF.GetConformer().GetPositions())\n",
    "\n",
    "        \n",
    "print ('DG: {}/{}'.format(n_succ, n_trials))\n",
    "print ('MMFF: {}/{}'.format(n_succ_mmff, n_trials))"
   ]
  },
  {
   "cell_type": "code",
   "execution_count": 67,
   "metadata": {},
   "outputs": [
    {
     "data": {
      "text/plain": [
       "(9, 19, 9)"
      ]
     },
     "execution_count": 67,
     "metadata": {},
     "output_type": "execute_result"
    }
   ],
   "source": [
    "mol_ref.GetNumAtoms(), mol_init_1.GetNumAtoms(), n_est"
   ]
  },
  {
   "cell_type": "code",
   "execution_count": 17,
   "metadata": {},
   "outputs": [],
   "source": [
    "y = orig_coords"
   ]
  },
  {
   "cell_type": "code",
   "execution_count": null,
   "metadata": {},
   "outputs": [],
   "source": []
  },
  {
   "cell_type": "code",
   "execution_count": 18,
   "metadata": {},
   "outputs": [],
   "source": [
    "x = mol_init_1.GetConformer()"
   ]
  },
  {
   "cell_type": "code",
   "execution_count": 19,
   "metadata": {},
   "outputs": [
    {
     "data": {
      "text/plain": [
       "(array([[ 8.01706628e-01,  1.38952459e+00,  1.27302612e+00],\n",
       "        [ 5.72904114e-01,  1.67856758e-01,  7.62882958e-01],\n",
       "        [ 3.57152978e-01, -1.03344293e+00,  3.42439231e-01],\n",
       "        [-1.05794534e+00, -1.26751341e+00, -1.43396216e-03],\n",
       "        [-1.03406103e+00, -2.38272419e+00, -7.21037948e-01],\n",
       "        [ 1.23053012e-01, -2.41094042e+00, -1.69179440e+00],\n",
       "        [-2.02429449e-01, -1.23456028e+00, -2.18952153e+00],\n",
       "        [ 7.84699288e-01,  2.54078007e-02, -1.66547028e+00],\n",
       "        [ 4.11567488e-01,  8.41757253e-01, -8.06911793e-01]]),\n",
       " array([[-0.01443023, -3.0990803 ,  1.3292968 ],\n",
       "        [ 0.10430805, -1.8171468 ,  0.95352185],\n",
       "        [-0.25510424, -1.348038  , -0.2800352 ],\n",
       "        [-0.30287   , -0.12065077, -0.783181  ],\n",
       "        [-0.23225069,  1.0987992 , -0.25925   ],\n",
       "        [-0.9856278 ,  1.8259783 ,  0.4598882 ],\n",
       "        [-0.026949  ,  1.3715398 ,  1.1998974 ],\n",
       "        [ 0.10771976,  0.242562  ,  2.2971797 ],\n",
       "        [ 0.09727437, -0.98582107,  2.0718298 ]], dtype=float32))"
      ]
     },
     "execution_count": 19,
     "metadata": {},
     "output_type": "execute_result"
    }
   ],
   "source": [
    "x.GetPositions()[:9,:], y"
   ]
  },
  {
   "cell_type": "code",
   "execution_count": 20,
   "metadata": {},
   "outputs": [
    {
     "name": "stdout",
     "output_type": "stream",
     "text": [
      "# of positive eigenvalues in the distance matrix: 3\n",
      "# of positive singular values in the coordinate matrix: 3\n"
     ]
    }
   ],
   "source": [
    "dist = 1./2. * ((orig_coords[:,None,:] - orig_coords[None,:,:]) ** 2).sum(-1)\n",
    "\n",
    "eigs = numpy.linalg.eigvalsh(dist)\n",
    "\n",
    "print('# of positive eigenvalues in the distance matrix:', (numpy.linalg.eigvalsh(dist) > 0.).sum())\n",
    "\n",
    "_, s, _ = numpy.linalg.svd(coords)\n",
    "\n",
    "print('# of positive singular values in the coordinate matrix:', (s > 0.).sum())"
   ]
  },
  {
   "cell_type": "code",
   "execution_count": 21,
   "metadata": {},
   "outputs": [
    {
     "name": "stdout",
     "output_type": "stream",
     "text": [
      "# of positive eigenvalues in the distance matrix: 9\n",
      "# of positive singular values in the coordinate matrix: 3\n"
     ]
    }
   ],
   "source": [
    "coords = x.GetPositions()\n",
    "\n",
    "dist = 1./2. * ((coords[:,None,:] - coords[None,:,:]) ** 2).sum(-1)\n",
    "\n",
    "eigs = numpy.linalg.eigvalsh(dist)\n",
    "\n",
    "print('# of positive eigenvalues in the distance matrix:', (numpy.linalg.eigvalsh(dist) > 0.).sum())\n",
    "\n",
    "_, s, _ = numpy.linalg.svd(coords)\n",
    "\n",
    "print('# of positive singular values in the coordinate matrix:', (s > 0.).sum())"
   ]
  },
  {
   "cell_type": "code",
   "execution_count": 22,
   "metadata": {},
   "outputs": [],
   "source": [
    "from matplotlib import pyplot as plot"
   ]
  },
  {
   "cell_type": "code",
   "execution_count": 23,
   "metadata": {},
   "outputs": [],
   "source": [
    "from mpl_toolkits import mplot3d\n"
   ]
  },
  {
   "cell_type": "code",
   "execution_count": 35,
   "metadata": {},
   "outputs": [
    {
     "data": {
      "application/vnd.jupyter.widget-view+json": {
       "model_id": "05fc2489f7ea4cd49fe5d428750bd715",
       "version_major": 2,
       "version_minor": 0
      },
      "text/plain": [
       "FigureCanvasNbAgg()"
      ]
     },
     "metadata": {},
     "output_type": "display_data"
    }
   ],
   "source": [
    "plot.figure(figsize=(20,5))\n",
    "\n",
    "ax = plot.subplot(2,n_trials+1,1, projection='3d')\n",
    "for jj in range(orig_coords.shape[0]):\n",
    "    ax.text(orig_coords[jj,0], orig_coords[jj,1], orig_coords[jj,2], '{}'.format(jj))\n",
    "ax.plot3D(orig_coords[:,0], orig_coords[:,1], orig_coords[:,2], '-')\n",
    "\n",
    "for tt in range(numpy.minimum(2, n_trials)):\n",
    "    ax = plot.subplot(2,n_trials+1,tt+2, projection='3d')\n",
    "    for jj in range(orig_coords.shape[0]):\n",
    "        ax.text(coords_all[tt][jj,0], coords_all[tt][jj,1], coords_all[tt][jj,2], '{}'.format(jj))\n",
    "    ax.plot3D(coords_all[tt][:9,0], coords_all[tt][:9,1], coords_all[tt][:9,2], 'r-o')\n",
    "\n",
    "for tt in range(numpy.minimum(2, n_trials)):\n",
    "    ax = plot.subplot(2,n_trials+1,n_trials+1+tt+2, projection='3d')\n",
    "    for jj in range(orig_coords.shape[0]):\n",
    "        ax.text(mmff_coords_all[tt][jj,0], mmff_coords_all[tt][jj,1], mmff_coords_all[tt][jj,2], '{}'.format(jj))\n",
    "    ax.plot3D(mmff_coords_all[tt][:9,0], mmff_coords_all[tt][:9,1], mmff_coords_all[tt][:9,2], 'r-o')\n",
    "\n",
    "    \n",
    "plot.tight_layout()\n",
    "plot.show()"
   ]
  },
  {
   "cell_type": "code",
   "execution_count": 18,
   "metadata": {},
   "outputs": [
    {
     "data": {
      "application/vnd.jupyter.widget-view+json": {
       "model_id": "b175db8645d14e8dad1ee40f01c66efc",
       "version_major": 2,
       "version_minor": 0
      },
      "text/plain": [
       "FigureCanvasNbAgg()"
      ]
     },
     "metadata": {},
     "output_type": "display_data"
    }
   ],
   "source": [
    "plot.figure()\n",
    "ax = plot.axes(projection='3d')\n",
    "\n",
    "for ii in range(orig_coords.shape[0]):\n",
    "    xx = numpy.vstack([orig_coords[ii, :], coords[ii,:]])\n",
    "    ax.plot3D(xx[:,0], xx[:,1], xx[:,2], 'x-')\n",
    "\n",
    "plot.show()"
   ]
  },
  {
   "cell_type": "code",
   "execution_count": 32,
   "metadata": {},
   "outputs": [
    {
     "data": {
      "text/plain": [
       "((9, 3), (19, 3))"
      ]
     },
     "execution_count": 32,
     "metadata": {},
     "output_type": "execute_result"
    }
   ],
   "source": [
    "mmff_coords_all[tt].shape, orig_coords.shape"
   ]
  },
  {
   "cell_type": "code",
   "execution_count": 19,
   "metadata": {},
   "outputs": [
    {
     "data": {
      "text/plain": [
       "array([[ 0.47660232,  1.2036736 ,  2.89623976],\n",
       "       [ 1.5996617 , -1.26414464,  1.33259319]])"
      ]
     },
     "execution_count": 19,
     "metadata": {},
     "output_type": "execute_result"
    }
   ],
   "source": [
    "xx"
   ]
  },
  {
   "cell_type": "code",
   "execution_count": null,
   "metadata": {},
   "outputs": [],
   "source": []
  }
 ],
 "metadata": {
  "kernelspec": {
   "display_name": "Python 3",
   "language": "python",
   "name": "python3"
  },
  "language_info": {
   "codemirror_mode": {
    "name": "ipython",
    "version": 3
   },
   "file_extension": ".py",
   "mimetype": "text/x-python",
   "name": "python",
   "nbconvert_exporter": "python",
   "pygments_lexer": "ipython3",
   "version": "3.6.7"
  }
 },
 "nbformat": 4,
 "nbformat_minor": 2
}
